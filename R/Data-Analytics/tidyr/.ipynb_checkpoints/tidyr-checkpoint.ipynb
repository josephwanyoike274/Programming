{
 "cells": [
  {
   "cell_type": "raw",
   "id": "97204dcb-8061-49f7-8a62-ae86f60c3dec",
   "metadata": {},
   "source": [
    "library(tidyr)\n",
    "#data mnipulation with tidyr"
   ]
  },
  {
   "cell_type": "code",
   "execution_count": 1,
   "id": "5774c010-8a6e-4c29-86c9-d9478366dc8d",
   "metadata": {},
   "outputs": [],
   "source": [
    "#the tidyr package helps you to create tidy data.\n",
    "#A tidy data is easy to visualise and model"
   ]
  },
  {
   "cell_type": "code",
   "execution_count": 2,
   "id": "1c9f4742-fe8d-4d08-9706-00a88d8f7cc6",
   "metadata": {},
   "outputs": [],
   "source": [
    "#gather() --- it makes the data longer\n",
    "#spread() --- it makes long data wider\n",
    "#seperate() ---  it splits a single column into multiple columns\n",
    "#unite() - it combines multiple columns into a single column"
   ]
  },
  {
   "cell_type": "code",
   "execution_count": null,
   "id": "76ee5310-819c-484a-ae74-147fb8f35dd3",
   "metadata": {},
   "outputs": [],
   "source": []
  }
 ],
 "metadata": {
  "kernelspec": {
   "display_name": "R",
   "language": "R",
   "name": "ir"
  },
  "language_info": {
   "codemirror_mode": "r",
   "file_extension": ".r",
   "mimetype": "text/x-r-source",
   "name": "R",
   "pygments_lexer": "r",
   "version": "4.1.2"
  }
 },
 "nbformat": 4,
 "nbformat_minor": 5
}
