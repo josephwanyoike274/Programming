{
 "cells": [
  {
   "cell_type": "code",
   "execution_count": 1,
   "id": "63ecbacd-bd31-4cd1-9a93-2086ba4d7f4d",
   "metadata": {},
   "outputs": [],
   "source": [
    "#Summarise() used to find descriptive statistics"
   ]
  },
  {
   "cell_type": "code",
   "execution_count": 5,
   "id": "b67978fd-4d42-4bb1-aaad-806612719c97",
   "metadata": {},
   "outputs": [
    {
     "name": "stderr",
     "output_type": "stream",
     "text": [
      "\n",
      "Attaching package: 'dplyr'\n",
      "\n",
      "\n",
      "The following objects are masked from 'package:stats':\n",
      "\n",
      "    filter, lag\n",
      "\n",
      "\n",
      "The following objects are masked from 'package:base':\n",
      "\n",
      "    intersect, setdiff, setequal, union\n",
      "\n",
      "\n"
     ]
    },
    {
     "data": {
      "text/html": [
       "<table class=\"dataframe\">\n",
       "<caption>A tibble: 1 × 1</caption>\n",
       "<thead>\n",
       "\t<tr><th scope=col>avg_air_time</th></tr>\n",
       "\t<tr><th scope=col>&lt;dbl&gt;</th></tr>\n",
       "</thead>\n",
       "<tbody>\n",
       "\t<tr><td>150.6865</td></tr>\n",
       "</tbody>\n",
       "</table>\n"
      ],
      "text/latex": [
       "A tibble: 1 × 1\n",
       "\\begin{tabular}{l}\n",
       " avg\\_air\\_time\\\\\n",
       " <dbl>\\\\\n",
       "\\hline\n",
       "\t 150.6865\\\\\n",
       "\\end{tabular}\n"
      ],
      "text/markdown": [
       "\n",
       "A tibble: 1 × 1\n",
       "\n",
       "| avg_air_time &lt;dbl&gt; |\n",
       "|---|\n",
       "| 150.6865 |\n",
       "\n"
      ],
      "text/plain": [
       "  avg_air_time\n",
       "1 150.6865    "
      ]
     },
     "metadata": {},
     "output_type": "display_data"
    }
   ],
   "source": [
    "library(dplyr)\n",
    "library(nycflights13)\n",
    "summarise(flights, avg_air_time=mean(air_time, na.rm=T))\n"
   ]
  },
  {
   "cell_type": "code",
   "execution_count": 7,
   "id": "fce467e5-e8a2-4ab8-b14b-55f409ba1376",
   "metadata": {},
   "outputs": [
    {
     "data": {
      "text/html": [
       "<table class=\"dataframe\">\n",
       "<caption>A tibble: 1 × 1</caption>\n",
       "<thead>\n",
       "\t<tr><th scope=col>total_air_time</th></tr>\n",
       "\t<tr><th scope=col>&lt;dbl&gt;</th></tr>\n",
       "</thead>\n",
       "<tbody>\n",
       "\t<tr><td>49326610</td></tr>\n",
       "</tbody>\n",
       "</table>\n"
      ],
      "text/latex": [
       "A tibble: 1 × 1\n",
       "\\begin{tabular}{l}\n",
       " total\\_air\\_time\\\\\n",
       " <dbl>\\\\\n",
       "\\hline\n",
       "\t 49326610\\\\\n",
       "\\end{tabular}\n"
      ],
      "text/markdown": [
       "\n",
       "A tibble: 1 × 1\n",
       "\n",
       "| total_air_time &lt;dbl&gt; |\n",
       "|---|\n",
       "| 49326610 |\n",
       "\n"
      ],
      "text/plain": [
       "  total_air_time\n",
       "1 49326610      "
      ]
     },
     "metadata": {},
     "output_type": "display_data"
    }
   ],
   "source": [
    "\n",
    "summarise(flights, total_air_time=sum(air_time, na.rm=T))#sum finds the total number of air time\n"
   ]
  },
  {
   "cell_type": "code",
   "execution_count": null,
   "id": "56dffba9-1fe9-4919-afe8-09c167b28a44",
   "metadata": {},
   "outputs": [],
   "source": []
  },
  {
   "cell_type": "code",
   "execution_count": 8,
   "id": "3d5dc225-f545-4fa4-a96a-db7007ea9f86",
   "metadata": {},
   "outputs": [
    {
     "data": {
      "text/html": [
       "<table class=\"dataframe\">\n",
       "<caption>A tibble: 1 × 1</caption>\n",
       "<thead>\n",
       "\t<tr><th scope=col>standarddeviation_air_time</th></tr>\n",
       "\t<tr><th scope=col>&lt;dbl&gt;</th></tr>\n",
       "</thead>\n",
       "<tbody>\n",
       "\t<tr><td>93.6883</td></tr>\n",
       "</tbody>\n",
       "</table>\n"
      ],
      "text/latex": [
       "A tibble: 1 × 1\n",
       "\\begin{tabular}{l}\n",
       " standarddeviation\\_air\\_time\\\\\n",
       " <dbl>\\\\\n",
       "\\hline\n",
       "\t 93.6883\\\\\n",
       "\\end{tabular}\n"
      ],
      "text/markdown": [
       "\n",
       "A tibble: 1 × 1\n",
       "\n",
       "| standarddeviation_air_time &lt;dbl&gt; |\n",
       "|---|\n",
       "| 93.6883 |\n",
       "\n"
      ],
      "text/plain": [
       "  standarddeviation_air_time\n",
       "1 93.6883                   "
      ]
     },
     "metadata": {},
     "output_type": "display_data"
    }
   ],
   "source": [
    "summarise(flights, standarddeviation_air_time=sd(air_time, na.rm=T))#standard deviation\n"
   ]
  },
  {
   "cell_type": "code",
   "execution_count": 9,
   "id": "55780e16-b007-4ea8-a190-4642c5763bc9",
   "metadata": {},
   "outputs": [
    {
     "data": {
      "text/html": [
       "<table class=\"dataframe\">\n",
       "<caption>A tibble: 1 × 1</caption>\n",
       "<thead>\n",
       "\t<tr><th scope=col>standarddeviation_air_time</th></tr>\n",
       "\t<tr><th scope=col>&lt;dbl&gt;</th></tr>\n",
       "</thead>\n",
       "<tbody>\n",
       "\t<tr><td>93.6883</td></tr>\n",
       "</tbody>\n",
       "</table>\n"
      ],
      "text/latex": [
       "A tibble: 1 × 1\n",
       "\\begin{tabular}{l}\n",
       " standarddeviation\\_air\\_time\\\\\n",
       " <dbl>\\\\\n",
       "\\hline\n",
       "\t 93.6883\\\\\n",
       "\\end{tabular}\n"
      ],
      "text/markdown": [
       "\n",
       "A tibble: 1 × 1\n",
       "\n",
       "| standarddeviation_air_time &lt;dbl&gt; |\n",
       "|---|\n",
       "| 93.6883 |\n",
       "\n"
      ],
      "text/plain": [
       "  standarddeviation_air_time\n",
       "1 93.6883                   "
      ]
     },
     "metadata": {},
     "output_type": "display_data"
    }
   ],
   "source": [
    "summarise(flights, standarddeviation_air_time=sd(air_time, na.rm=T))#standard deviation\n"
   ]
  },
  {
   "cell_type": "code",
   "execution_count": null,
   "id": "3675baf8-80b9-43e9-863d-5b9053e6ebbf",
   "metadata": {},
   "outputs": [],
   "source": []
  }
 ],
 "metadata": {
  "kernelspec": {
   "display_name": "R",
   "language": "R",
   "name": "ir"
  },
  "language_info": {
   "codemirror_mode": "r",
   "file_extension": ".r",
   "mimetype": "text/x-r-source",
   "name": "R",
   "pygments_lexer": "r",
   "version": "4.1.2"
  }
 },
 "nbformat": 4,
 "nbformat_minor": 5
}
