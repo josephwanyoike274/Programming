{
 "cells": [
  {
   "cell_type": "code",
   "execution_count": 1,
   "id": "5627b43c",
   "metadata": {},
   "outputs": [],
   "source": [
    "## Example: Space Shuttle Launch Data ----"
   ]
  },
  {
   "cell_type": "code",
   "execution_count": 2,
   "id": "15f59e1f",
   "metadata": {},
   "outputs": [],
   "source": [
    "launch <- read.csv(\"challenger.csv\")"
   ]
  },
  {
   "cell_type": "code",
   "execution_count": 3,
   "id": "3d171d8c",
   "metadata": {},
   "outputs": [
    {
     "data": {
      "text/html": [
       "<table>\n",
       "<thead><tr><th scope=col>distress_ct</th><th scope=col>temperature</th><th scope=col>field_check_pressure</th><th scope=col>flight_num</th></tr></thead>\n",
       "<tbody>\n",
       "\t<tr><td>0  </td><td>66 </td><td> 50</td><td> 1 </td></tr>\n",
       "\t<tr><td>1  </td><td>70 </td><td> 50</td><td> 2 </td></tr>\n",
       "\t<tr><td>0  </td><td>69 </td><td> 50</td><td> 3 </td></tr>\n",
       "\t<tr><td>0  </td><td>68 </td><td> 50</td><td> 4 </td></tr>\n",
       "\t<tr><td>0  </td><td>67 </td><td> 50</td><td> 5 </td></tr>\n",
       "\t<tr><td>0  </td><td>72 </td><td> 50</td><td> 6 </td></tr>\n",
       "\t<tr><td>0  </td><td>73 </td><td>100</td><td> 7 </td></tr>\n",
       "\t<tr><td>0  </td><td>70 </td><td>100</td><td> 8 </td></tr>\n",
       "\t<tr><td>1  </td><td>57 </td><td>200</td><td> 9 </td></tr>\n",
       "\t<tr><td>1  </td><td>63 </td><td>200</td><td>10 </td></tr>\n",
       "\t<tr><td>1  </td><td>70 </td><td>200</td><td>11 </td></tr>\n",
       "\t<tr><td>0  </td><td>78 </td><td>200</td><td>12 </td></tr>\n",
       "\t<tr><td>0  </td><td>67 </td><td>200</td><td>13 </td></tr>\n",
       "\t<tr><td>2  </td><td>53 </td><td>200</td><td>14 </td></tr>\n",
       "\t<tr><td>0  </td><td>67 </td><td>200</td><td>15 </td></tr>\n",
       "\t<tr><td>0  </td><td>75 </td><td>200</td><td>16 </td></tr>\n",
       "\t<tr><td>0  </td><td>70 </td><td>200</td><td>17 </td></tr>\n",
       "\t<tr><td>0  </td><td>81 </td><td>200</td><td>18 </td></tr>\n",
       "\t<tr><td>0  </td><td>76 </td><td>200</td><td>19 </td></tr>\n",
       "\t<tr><td>0  </td><td>79 </td><td>200</td><td>20 </td></tr>\n",
       "\t<tr><td>2  </td><td>75 </td><td>200</td><td>21 </td></tr>\n",
       "\t<tr><td>0  </td><td>76 </td><td>200</td><td>22 </td></tr>\n",
       "\t<tr><td>1  </td><td>58 </td><td>200</td><td>23 </td></tr>\n",
       "</tbody>\n",
       "</table>\n"
      ],
      "text/latex": [
       "\\begin{tabular}{r|llll}\n",
       " distress\\_ct & temperature & field\\_check\\_pressure & flight\\_num\\\\\n",
       "\\hline\n",
       "\t 0   & 66  &  50 &  1 \\\\\n",
       "\t 1   & 70  &  50 &  2 \\\\\n",
       "\t 0   & 69  &  50 &  3 \\\\\n",
       "\t 0   & 68  &  50 &  4 \\\\\n",
       "\t 0   & 67  &  50 &  5 \\\\\n",
       "\t 0   & 72  &  50 &  6 \\\\\n",
       "\t 0   & 73  & 100 &  7 \\\\\n",
       "\t 0   & 70  & 100 &  8 \\\\\n",
       "\t 1   & 57  & 200 &  9 \\\\\n",
       "\t 1   & 63  & 200 & 10 \\\\\n",
       "\t 1   & 70  & 200 & 11 \\\\\n",
       "\t 0   & 78  & 200 & 12 \\\\\n",
       "\t 0   & 67  & 200 & 13 \\\\\n",
       "\t 2   & 53  & 200 & 14 \\\\\n",
       "\t 0   & 67  & 200 & 15 \\\\\n",
       "\t 0   & 75  & 200 & 16 \\\\\n",
       "\t 0   & 70  & 200 & 17 \\\\\n",
       "\t 0   & 81  & 200 & 18 \\\\\n",
       "\t 0   & 76  & 200 & 19 \\\\\n",
       "\t 0   & 79  & 200 & 20 \\\\\n",
       "\t 2   & 75  & 200 & 21 \\\\\n",
       "\t 0   & 76  & 200 & 22 \\\\\n",
       "\t 1   & 58  & 200 & 23 \\\\\n",
       "\\end{tabular}\n"
      ],
      "text/markdown": [
       "\n",
       "| distress_ct | temperature | field_check_pressure | flight_num |\n",
       "|---|---|---|---|\n",
       "| 0   | 66  |  50 |  1  |\n",
       "| 1   | 70  |  50 |  2  |\n",
       "| 0   | 69  |  50 |  3  |\n",
       "| 0   | 68  |  50 |  4  |\n",
       "| 0   | 67  |  50 |  5  |\n",
       "| 0   | 72  |  50 |  6  |\n",
       "| 0   | 73  | 100 |  7  |\n",
       "| 0   | 70  | 100 |  8  |\n",
       "| 1   | 57  | 200 |  9  |\n",
       "| 1   | 63  | 200 | 10  |\n",
       "| 1   | 70  | 200 | 11  |\n",
       "| 0   | 78  | 200 | 12  |\n",
       "| 0   | 67  | 200 | 13  |\n",
       "| 2   | 53  | 200 | 14  |\n",
       "| 0   | 67  | 200 | 15  |\n",
       "| 0   | 75  | 200 | 16  |\n",
       "| 0   | 70  | 200 | 17  |\n",
       "| 0   | 81  | 200 | 18  |\n",
       "| 0   | 76  | 200 | 19  |\n",
       "| 0   | 79  | 200 | 20  |\n",
       "| 2   | 75  | 200 | 21  |\n",
       "| 0   | 76  | 200 | 22  |\n",
       "| 1   | 58  | 200 | 23  |\n",
       "\n"
      ],
      "text/plain": [
       "   distress_ct temperature field_check_pressure flight_num\n",
       "1  0           66           50                   1        \n",
       "2  1           70           50                   2        \n",
       "3  0           69           50                   3        \n",
       "4  0           68           50                   4        \n",
       "5  0           67           50                   5        \n",
       "6  0           72           50                   6        \n",
       "7  0           73          100                   7        \n",
       "8  0           70          100                   8        \n",
       "9  1           57          200                   9        \n",
       "10 1           63          200                  10        \n",
       "11 1           70          200                  11        \n",
       "12 0           78          200                  12        \n",
       "13 0           67          200                  13        \n",
       "14 2           53          200                  14        \n",
       "15 0           67          200                  15        \n",
       "16 0           75          200                  16        \n",
       "17 0           70          200                  17        \n",
       "18 0           81          200                  18        \n",
       "19 0           76          200                  19        \n",
       "20 0           79          200                  20        \n",
       "21 2           75          200                  21        \n",
       "22 0           76          200                  22        \n",
       "23 1           58          200                  23        "
      ]
     },
     "metadata": {},
     "output_type": "display_data"
    }
   ],
   "source": [
    "launch"
   ]
  },
  {
   "cell_type": "code",
   "execution_count": 4,
   "id": "72c99248",
   "metadata": {},
   "outputs": [],
   "source": [
    "# estimate beta manually"
   ]
  },
  {
   "cell_type": "code",
   "execution_count": null,
   "id": "4d498706",
   "metadata": {},
   "outputs": [],
   "source": [
    "b <- cov(launch$temperature, launch$distress_ct) / var(launch$temperature)"
   ]
  }
 ],
 "metadata": {
  "kernelspec": {
   "display_name": "R",
   "language": "R",
   "name": "ir"
  },
  "language_info": {
   "codemirror_mode": "r",
   "file_extension": ".r",
   "mimetype": "text/x-r-source",
   "name": "R",
   "pygments_lexer": "r",
   "version": "3.6.1"
  }
 },
 "nbformat": 4,
 "nbformat_minor": 5
}
