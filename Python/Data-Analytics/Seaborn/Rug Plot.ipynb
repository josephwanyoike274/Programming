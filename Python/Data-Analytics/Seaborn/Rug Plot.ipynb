{
 "cells": [
  {
   "cell_type": "code",
   "execution_count": 4,
   "id": "371d6811-3aea-4299-b7a6-ef50292060f2",
   "metadata": {},
   "outputs": [],
   "source": [
    "import seaborn as sns"
   ]
  },
  {
   "cell_type": "code",
   "execution_count": 7,
   "id": "e8c105a3-e8d3-45d0-9936-6bf744cb7d56",
   "metadata": {},
   "outputs": [],
   "source": [
    "tips_df = sns.load_dataset(\"tips\")"
   ]
  },
  {
   "cell_type": "code",
   "execution_count": 9,
   "id": "249eedc8-cdac-4336-920f-8e19dbcea6ca",
   "metadata": {},
   "outputs": [
    {
     "data": {
      "text/plain": [
       "<AxesSubplot:xlabel='tip'>"
      ]
     },
     "execution_count": 9,
     "metadata": {},
     "output_type": "execute_result"
    },
    {
     "data": {
      "image/png": "[encoded data removed]",
      "text/plain": [
       "<Figure size 432x288 with 1 Axes>"
      ]
     },
     "metadata": {
      "needs_background": "light"
     },
     "output_type": "display_data"
    }
   ],
   "source": [
    "#Rug Plot ---Plot marginal distributions by drawing ticks along the x and y axes.\n",
    "\n",
    "#This function is intended to complement other plots by showing the location \n",
    "#of individual observations in an unobstrusive way.\n",
    "\n",
    "#marginal distributions --- \n",
    "##more dense number of lines where the amount is most common\n",
    "\n",
    "sns.rugplot(tips_df[\"tip\"])\n"
   ]
  },
  {
   "cell_type": "code",
   "execution_count": null,
   "id": "7261ff65-ca63-42ba-a670-451c948be87f",
   "metadata": {},
   "outputs": [],
   "source": [
    "#In probability theory and statistics, the marginal distribution of a subset \n",
    "#of a collection of random variables is the probability distribution of the \n",
    "#variables contained in the subset. It gives the probabilities of various \n",
    "#values of the variables in the subset without reference to the values of the \n",
    "#other variables. This contrasts with a conditional distribution, which gives \n",
    "#the probabilities contingent upon the values of the other variables.\n",
    "\n",
    "#Marginal variables are those variables in the subset of variables being \n",
    "#retained. These concepts are \"marginal\" because they can be found by summing \n",
    "#values in a table along rows or columns, and writing the sum in the margins \n",
    "#of the table.[1] The distribution of the marginal variables \n",
    "#(the marginal distribution) is obtained by marginalizing – that is, focusing\n",
    "#on the sums in the margin – over the distribution of the variables being \n",
    "#discarded, and the discarded variables are said to have been marginalized \n",
    "#out.\n",
    "\n",
    "#The context here is that the theoretical studies being undertaken, or the \n",
    "#data analysis being done, involves a wider set of random variables but that \n",
    "#attention is being limited to a reduced number of those variables. \n",
    "#In many applications, an analysis may start with a given collection of \n",
    "#random variables, then first extend the set by defining new ones \n",
    "#(such as the sum of the original random variables) and finally reduce the \n",
    "#number by placing interest in the marginal distribution of a subset \n",
    "#(such as the sum). Several different analyses may be done, each treating a \n",
    "#different subset of variables as the marginal variables."
   ]
  }
 ],
 "metadata": {
  "kernelspec": {
   "display_name": "Python 3 (ipykernel)",
   "language": "python",
   "name": "python3"
  },
  "language_info": {
   "codemirror_mode": {
    "name": "ipython",
    "version": 3
   },
   "file_extension": ".py",
   "mimetype": "text/x-python",
   "name": "python",
   "nbconvert_exporter": "python",
   "pygments_lexer": "ipython3",
   "version": "3.8.5"
  }
 },
 "nbformat": 4,
 "nbformat_minor": 5
}
