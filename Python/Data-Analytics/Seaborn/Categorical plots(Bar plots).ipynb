{
 "cells": [
  {
   "cell_type": "code",
   "execution_count": null,
   "id": "f13cfe24-1f9c-4f5a-99d8-ce275fd7974d",
   "metadata": {},
   "outputs": [],
   "source": [
    "#timestamp ---- 17:46"
   ]
  }
 ],
 "metadata": {
  "kernelspec": {
   "display_name": "Python 3 (ipykernel)",
   "language": "python",
   "name": "python3"
  },
  "language_info": {
   "codemirror_mode": {
    "name": "ipython",
    "version": 3
   },
   "file_extension": ".py",
   "mimetype": "text/x-python",
   "name": "python",
   "nbconvert_exporter": "python",
   "pygments_lexer": "ipython3",
   "version": "3.8.5"
  }
 },
 "nbformat": 4,
 "nbformat_minor": 5
}
