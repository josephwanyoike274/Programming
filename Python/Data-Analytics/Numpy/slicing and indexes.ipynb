{
 "cells": [
  {
   "cell_type": "code",
   "execution_count": 1,
   "id": "18d26e45-ae49-44db-8969-61ee79dc2a1d",
   "metadata": {},
   "outputs": [],
   "source": [
    "import numpy as np"
   ]
  },
  {
   "cell_type": "code",
   "execution_count": 4,
   "id": "71bc22e9-f6c2-48f8-b19f-5fccb49467af",
   "metadata": {},
   "outputs": [],
   "source": [
    "m_list_1  = [[1,2,3],[4,5,6],[7,8,9]]\n",
    "             "
   ]
  },
  {
   "cell_type": "code",
   "execution_count": 5,
   "id": "7748afaa-a6f7-49da-aeca-4b3c8b1387ca",
   "metadata": {},
   "outputs": [],
   "source": [
    "np_m_arr_1 = np.array(m_list_1)"
   ]
  },
  {
   "cell_type": "code",
   "execution_count": 6,
   "id": "d2d21d2e-c618-480f-ae80-8f7a750cb1ca",
   "metadata": {},
   "outputs": [
    {
     "data": {
      "text/plain": [
       "array([[1, 2, 3],\n",
       "       [4, 5, 6],\n",
       "       [7, 8, 9]])"
      ]
     },
     "execution_count": 6,
     "metadata": {},
     "output_type": "execute_result"
    }
   ],
   "source": [
    "np_m_arr_1"
   ]
  },
  {
   "cell_type": "code",
   "execution_count": 7,
   "id": "da81f51e-8680-4e12-9721-b77e80775fa2",
   "metadata": {},
   "outputs": [],
   "source": [
    "np_m_arr_1[0, 0] = 2 #changes the value in the first row first column to 2"
   ]
  },
  {
   "cell_type": "code",
   "execution_count": 9,
   "id": "9c9c0ff7-02d7-4657-9115-5a7de72eb6e7",
   "metadata": {},
   "outputs": [
    {
     "data": {
      "text/plain": [
       "array([[2, 2, 3],\n",
       "       [4, 5, 6],\n",
       "       [7, 8, 9]])"
      ]
     },
     "execution_count": 9,
     "metadata": {},
     "output_type": "execute_result"
    }
   ],
   "source": [
    "np_m_arr_1"
   ]
  },
  {
   "cell_type": "code",
   "execution_count": 10,
   "id": "e96b8664-5f43-41c1-ab4e-47f8359a9876",
   "metadata": {},
   "outputs": [],
   "source": [
    "np_m_arr_1.itemset((0, 1), 1)"
   ]
  },
  {
   "cell_type": "code",
   "execution_count": 11,
   "id": "a491970f-a385-400c-85ca-e7f829cd6520",
   "metadata": {},
   "outputs": [
    {
     "data": {
      "text/plain": [
       "array([[2, 1, 3],\n",
       "       [4, 5, 6],\n",
       "       [7, 8, 9]])"
      ]
     },
     "execution_count": 11,
     "metadata": {},
     "output_type": "execute_result"
    }
   ],
   "source": [
    "np_m_arr_1"
   ]
  },
  {
   "cell_type": "code",
   "execution_count": 12,
   "id": "65d999d1-5dbe-4468-a7ad-50a2eb7c6cf1",
   "metadata": {},
   "outputs": [
    {
     "data": {
      "text/plain": [
       "(3, 3)"
      ]
     },
     "execution_count": 12,
     "metadata": {},
     "output_type": "execute_result"
    }
   ],
   "source": [
    "np_m_arr_1.shape #gives the dimension of the array"
   ]
  },
  {
   "cell_type": "code",
   "execution_count": 13,
   "id": "80ef9600-f5dd-4436-90a9-01a85a8fbd31",
   "metadata": {},
   "outputs": [
    {
     "data": {
      "text/plain": [
       "1"
      ]
     },
     "execution_count": 13,
     "metadata": {},
     "output_type": "execute_result"
    }
   ],
   "source": [
    "np_m_arr_1[0, 1] #displays the value in the first row first column ----- also you can do as below"
   ]
  },
  {
   "cell_type": "code",
   "execution_count": 14,
   "id": "32496061-56c1-481f-9cae-cd612353ccab",
   "metadata": {},
   "outputs": [
    {
     "data": {
      "text/plain": [
       "1"
      ]
     },
     "execution_count": 14,
     "metadata": {},
     "output_type": "execute_result"
    }
   ],
   "source": [
    "np_m_arr_1.item(0, 1)# works the same as above  #notice we put brackets in this case"
   ]
  },
  {
   "cell_type": "code",
   "execution_count": 17,
   "id": "0794b809-bb84-45e6-ad29-60ec4ff7581d",
   "metadata": {},
   "outputs": [
    {
     "name": "stdout",
     "output_type": "stream",
     "text": [
      "np_m_arr_1\n",
      " [[2 1 3]\n",
      " [4 5 6]\n",
      " [7 8 9]]\n"
     ]
    },
    {
     "data": {
      "text/plain": [
       "array([2, 4, 7])"
      ]
     },
     "execution_count": 17,
     "metadata": {},
     "output_type": "execute_result"
    }
   ],
   "source": [
    "print(\"np_m_arr_1\\n\", np_m_arr_1)\n",
    "np.take(np_m_arr_1, [0, 3, 6])#displays the first ,third and sixth values from the array."
   ]
  },
  {
   "cell_type": "code",
   "execution_count": 18,
   "id": "96630eba-d82a-408e-806b-c55b2bda8288",
   "metadata": {},
   "outputs": [],
   "source": [
    "np.put(np_m_arr_1, [0, 3, 6], [10, 10, 10])#changes the first, third and sixth values to 10, 10 ,10"
   ]
  },
  {
   "cell_type": "code",
   "execution_count": 19,
   "id": "40000aa4-7229-4bde-bc85-a65d01df2d0f",
   "metadata": {},
   "outputs": [
    {
     "data": {
      "text/plain": [
       "array([[10,  1,  3],\n",
       "       [10,  5,  6],\n",
       "       [10,  8,  9]])"
      ]
     },
     "execution_count": 19,
     "metadata": {},
     "output_type": "execute_result"
    }
   ],
   "source": [
    "np_m_arr_1"
   ]
  },
  {
   "cell_type": "code",
   "execution_count": 23,
   "id": "a3eae985-6235-43d6-aa97-e98dc0b0a973",
   "metadata": {},
   "outputs": [
    {
     "data": {
      "text/plain": [
       "array([1, 3, 5])"
      ]
     },
     "execution_count": 23,
     "metadata": {},
     "output_type": "execute_result"
    }
   ],
   "source": [
    "list_1 = [1,2,3,4,5,6,7,8,9,10]\n",
    "np_arr_1 = np.array(list_1)\n",
    "np_arr_1[:5:2]#displays from the first item to the fifth with a step of 2\n"
   ]
  },
  {
   "cell_type": "code",
   "execution_count": 25,
   "id": "728e67af-ffbc-46cf-a49e-6f651515c832",
   "metadata": {},
   "outputs": [
    {
     "data": {
      "text/plain": [
       "array([1, 5, 8])"
      ]
     },
     "execution_count": 25,
     "metadata": {},
     "output_type": "execute_result"
    }
   ],
   "source": [
    "np_m_arr_1[:,1]#slices all values of the second column"
   ]
  },
  {
   "cell_type": "code",
   "execution_count": 26,
   "id": "47b42331-899e-43eb-90db-e4aa6eb020c1",
   "metadata": {},
   "outputs": [
    {
     "data": {
      "text/plain": [
       "array([[10,  8,  9],\n",
       "       [10,  5,  6],\n",
       "       [10,  1,  3]])"
      ]
     },
     "execution_count": 26,
     "metadata": {},
     "output_type": "execute_result"
    }
   ],
   "source": [
    "np_m_arr_1[::-1]#flips the matrix# do research on flipping"
   ]
  },
  {
   "cell_type": "code",
   "execution_count": 27,
   "id": "0c74e556-9352-4148-9e56-a1fa03b99496",
   "metadata": {},
   "outputs": [],
   "source": [
    "evens = np_m_arr_1[np_m_arr_1%2 == 0]#displys even numbers"
   ]
  },
  {
   "cell_type": "code",
   "execution_count": 28,
   "id": "e2bc8dc3-60f6-4f44-afab-774c6778a3b8",
   "metadata": {},
   "outputs": [
    {
     "data": {
      "text/plain": [
       "array([10, 10,  6, 10,  8])"
      ]
     },
     "execution_count": 28,
     "metadata": {},
     "output_type": "execute_result"
    }
   ],
   "source": [
    "evens"
   ]
  },
  {
   "cell_type": "code",
   "execution_count": 29,
   "id": "5eab613f-6f4d-4d5c-a060-31902b790fda",
   "metadata": {},
   "outputs": [
    {
     "data": {
      "text/plain": [
       "array([10, 10,  6, 10,  8,  9])"
      ]
     },
     "execution_count": 29,
     "metadata": {},
     "output_type": "execute_result"
    }
   ],
   "source": [
    "np_m_arr_1[np_m_arr_1 > 5]#displays values greater than 5"
   ]
  },
  {
   "cell_type": "code",
   "execution_count": 31,
   "id": "36e68b66-4e1f-4e67-8740-1eae9a366d7c",
   "metadata": {},
   "outputs": [
    {
     "data": {
      "text/plain": [
       "array([6, 8])"
      ]
     },
     "execution_count": 31,
     "metadata": {},
     "output_type": "execute_result"
    }
   ],
   "source": [
    "np_m_arr_1[(np_m_arr_1 > 5) & (np_m_arr_1 < 9)]#displays values greater than 5 and less than 5"
   ]
  },
  {
   "cell_type": "code",
   "execution_count": 32,
   "id": "1126752a-2b53-4c44-aa64-0e89d10bf03b",
   "metadata": {},
   "outputs": [
    {
     "data": {
      "text/plain": [
       "array([10, 10,  6, 10,  8,  9])"
      ]
     },
     "execution_count": 32,
     "metadata": {},
     "output_type": "execute_result"
    }
   ],
   "source": [
    "np_m_arr_1[(np_m_arr_1 > 5) | (np_m_arr_1 == 10)]#displays value greater than 5 or greater than 10 "
   ]
  },
  {
   "cell_type": "code",
   "execution_count": 36,
   "id": "0b4a24e1-19ed-43c9-bb2f-ac9e0af0944b",
   "metadata": {},
   "outputs": [
    {
     "data": {
      "text/plain": [
       "array([ 1,  3,  5,  6,  8,  9, 10])"
      ]
     },
     "execution_count": 36,
     "metadata": {},
     "output_type": "execute_result"
    }
   ],
   "source": [
    "np.unique(np_m_arr_1)#displays unique values"
   ]
  },
  {
   "cell_type": "code",
   "execution_count": null,
   "id": "06c457f1-d5f9-48e0-b890-f9e03b881eb4",
   "metadata": {},
   "outputs": [],
   "source": []
  },
  {
   "cell_type": "code",
   "execution_count": null,
   "id": "224a4a62-c988-49f8-9e8c-95aa15e4e08e",
   "metadata": {},
   "outputs": [],
   "source": []
  }
 ],
 "metadata": {
  "kernelspec": {
   "display_name": "Python 3 (ipykernel)",
   "language": "python",
   "name": "python3"
  },
  "language_info": {
   "codemirror_mode": {
    "name": "ipython",
    "version": 3
   },
   "file_extension": ".py",
   "mimetype": "text/x-python",
   "name": "python",
   "nbconvert_exporter": "python",
   "pygments_lexer": "ipython3",
   "version": "3.8.5"
  }
 },
 "nbformat": 4,
 "nbformat_minor": 5
}
