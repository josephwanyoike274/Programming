{
 "cells": [
  {
   "cell_type": "code",
   "execution_count": null,
   "id": "52f0b7cb-8c4a-4711-8300-f96a72c72239",
   "metadata": {},
   "outputs": [],
   "source": [
    "#timestamp --- 12:51"
   ]
  }
 ],
 "metadata": {
  "kernelspec": {
   "display_name": "Python 3 (ipykernel)",
   "language": "python",
   "name": "python3"
  },
  "language_info": {
   "codemirror_mode": {
    "name": "ipython",
    "version": 3
   },
   "file_extension": ".py",
   "mimetype": "text/x-python",
   "name": "python",
   "nbconvert_exporter": "python",
   "pygments_lexer": "ipython3",
   "version": "3.8.5"
  }
 },
 "nbformat": 4,
 "nbformat_minor": 5
}
