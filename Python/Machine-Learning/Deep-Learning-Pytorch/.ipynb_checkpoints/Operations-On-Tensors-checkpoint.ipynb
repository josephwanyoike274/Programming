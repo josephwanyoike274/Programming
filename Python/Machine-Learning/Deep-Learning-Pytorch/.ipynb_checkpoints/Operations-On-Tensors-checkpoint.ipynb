{
 "cells": [
  {
   "cell_type": "code",
   "execution_count": 1,
   "id": "d59e86fb",
   "metadata": {},
   "outputs": [],
   "source": [
    "import torch"
   ]
  },
  {
   "cell_type": "code",
   "execution_count": 4,
   "id": "e64174ac",
   "metadata": {},
   "outputs": [],
   "source": [
    "if torch.cuda.is_available():\n",
    "    tensor = tensor.to(\"cuda\")"
   ]
  },
  {
   "cell_type": "code",
   "execution_count": 9,
   "id": "b1a55eec",
   "metadata": {},
   "outputs": [
    {
     "name": "stdout",
     "output_type": "stream",
     "text": [
      "First Row:  tensor([1., 1., 1., 1.])\n",
      "First Column  tensor([1., 1., 1., 1.])\n",
      "last Column  tensor([1., 1., 1., 1.])\n"
     ]
    }
   ],
   "source": [
    "#Standard numpy-like indexing and slicing:\n",
    "tensor = torch.ones(4, 4)\n",
    "print(\"First Row: \", tensor[0])\n",
    "print(\"First Column \", tensor[:, 0])\n",
    "print(\"last Column \", tensor[..., -1])"
   ]
  },
  {
   "cell_type": "code",
   "execution_count": null,
   "id": "36a4c891",
   "metadata": {},
   "outputs": [],
   "source": []
  },
  {
   "cell_type": "code",
   "execution_count": null,
   "id": "081ec083",
   "metadata": {},
   "outputs": [],
   "source": []
  }
 ],
 "metadata": {
  "kernelspec": {
   "display_name": "Python 3 (ipykernel)",
   "language": "python",
   "name": "python3"
  },
  "language_info": {
   "codemirror_mode": {
    "name": "ipython",
    "version": 3
   },
   "file_extension": ".py",
   "mimetype": "text/x-python",
   "name": "python",
   "nbconvert_exporter": "python",
   "pygments_lexer": "ipython3",
   "version": "3.9.13"
  }
 },
 "nbformat": 4,
 "nbformat_minor": 5
}
