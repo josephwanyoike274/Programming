{
 "cells": [
  {
   "cell_type": "code",
   "execution_count": 1,
   "id": "4175a4fa",
   "metadata": {},
   "outputs": [],
   "source": [
    "#FV=PV(1+R)**n   ----->(power of n)\n",
    "#FV = future value\n",
    "#PV = present value\n",
    "#R = period deposit rate\n",
    "#n= number of periods"
   ]
  },
  {
   "cell_type": "code",
   "execution_count": 3,
   "id": "c4295659",
   "metadata": {},
   "outputs": [],
   "source": [
    "def fv_f(pv, r, n):\n",
    "    return pv*(1+r)**n"
   ]
  },
  {
   "cell_type": "code",
   "execution_count": 4,
   "id": "ed111850",
   "metadata": {},
   "outputs": [
    {
     "data": {
      "text/plain": [
       "13310.000000000004"
      ]
     },
     "execution_count": 4,
     "metadata": {},
     "output_type": "execute_result"
    }
   ],
   "source": [
    "fv_f(10000, 0.1, 3)"
   ]
  },
  {
   "cell_type": "code",
   "execution_count": null,
   "id": "4eb91959",
   "metadata": {},
   "outputs": [],
   "source": []
  }
 ],
 "metadata": {
  "kernelspec": {
   "display_name": "Python 3 (ipykernel)",
   "language": "python",
   "name": "python3"
  },
  "language_info": {
   "codemirror_mode": {
    "name": "ipython",
    "version": 3
   },
   "file_extension": ".py",
   "mimetype": "text/x-python",
   "name": "python",
   "nbconvert_exporter": "python",
   "pygments_lexer": "ipython3",
   "version": "3.9.13"
  }
 },
 "nbformat": 4,
 "nbformat_minor": 5
}
