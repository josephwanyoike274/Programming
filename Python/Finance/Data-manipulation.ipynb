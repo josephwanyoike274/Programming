{
 "cells": [
  {
   "cell_type": "code",
   "execution_count": 1,
   "id": "53fbf00d",
   "metadata": {},
   "outputs": [],
   "source": [
    "#2nd may 2023\n",
    "#Joseph Wanyoike Njoroge"
   ]
  },
  {
   "cell_type": "code",
   "execution_count": 2,
   "id": "8b7d234b",
   "metadata": {},
   "outputs": [],
   "source": [
    "import numpy as np\n"
   ]
  },
  {
   "cell_type": "code",
   "execution_count": 3,
   "id": "1c8f3051",
   "metadata": {},
   "outputs": [],
   "source": [
    "r = 0.23\n",
    "pv = np.array([100,200,300,400,500])"
   ]
  },
  {
   "cell_type": "code",
   "execution_count": 4,
   "id": "abff8c6f",
   "metadata": {},
   "outputs": [
    {
     "name": "stdout",
     "output_type": "stream",
     "text": [
      "<class 'float'>\n"
     ]
    }
   ],
   "source": [
    "print(type(r))\n"
   ]
  },
  {
   "cell_type": "code",
   "execution_count": 5,
   "id": "611b7ef6",
   "metadata": {},
   "outputs": [
    {
     "name": "stdout",
     "output_type": "stream",
     "text": [
      "<class 'numpy.ndarray'>\n"
     ]
    }
   ],
   "source": [
    "print(type(pv))"
   ]
  },
  {
   "cell_type": "code",
   "execution_count": null,
   "id": "8391c929",
   "metadata": {},
   "outputs": [],
   "source": []
  }
 ],
 "metadata": {
  "kernelspec": {
   "display_name": "Python 3 (ipykernel)",
   "language": "python",
   "name": "python3"
  },
  "language_info": {
   "codemirror_mode": {
    "name": "ipython",
    "version": 3
   },
   "file_extension": ".py",
   "mimetype": "text/x-python",
   "name": "python",
   "nbconvert_exporter": "python",
   "pygments_lexer": "ipython3",
   "version": "3.9.13"
  }
 },
 "nbformat": 4,
 "nbformat_minor": 5
}
