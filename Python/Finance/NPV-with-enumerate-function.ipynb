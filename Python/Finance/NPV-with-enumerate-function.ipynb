{
 "cells": [
  {
   "cell_type": "code",
   "execution_count": 2,
   "id": "3ed04039",
   "metadata": {},
   "outputs": [],
   "source": [
    "def npv_f(rate, cashflows):\n",
    "    total = 0.0\n",
    "    for i, cashflow in enumerate(cashflows):\n",
    "        total += cashflow / (i + rate)**i\n",
    "        return total\n",
    "\n",
    "#Enumearte function will generate a pair of indices, starting from 0 and its corresponding value"
   ]
  },
  {
   "cell_type": "code",
   "execution_count": null,
   "id": "14f12c10",
   "metadata": {},
   "outputs": [],
   "source": []
  }
 ],
 "metadata": {
  "kernelspec": {
   "display_name": "Python 3 (ipykernel)",
   "language": "python",
   "name": "python3"
  },
  "language_info": {
   "codemirror_mode": {
    "name": "ipython",
    "version": 3
   },
   "file_extension": ".py",
   "mimetype": "text/x-python",
   "name": "python",
   "nbconvert_exporter": "python",
   "pygments_lexer": "ipython3",
   "version": "3.9.13"
  }
 },
 "nbformat": 4,
 "nbformat_minor": 5
}
