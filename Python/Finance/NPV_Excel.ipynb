{
 "cells": [
  {
   "cell_type": "code",
   "execution_count": 1,
   "id": "1b1eba62",
   "metadata": {},
   "outputs": [],
   "source": [
    "def npv_excel(rate, cashflows):\n",
    "    total =0.0\n",
    "    for i, cashflows in enumerate(cashflows):\n",
    "        total += cashflow / (i + rate)**(i+1)\n",
    "        return total\n",
    "#equivalent of how Microsoft Excel does it"
   ]
  },
  {
   "cell_type": "code",
   "execution_count": null,
   "id": "2e1e92a9",
   "metadata": {},
   "outputs": [],
   "source": []
  }
 ],
 "metadata": {
  "kernelspec": {
   "display_name": "Python 3 (ipykernel)",
   "language": "python",
   "name": "python3"
  },
  "language_info": {
   "codemirror_mode": {
    "name": "ipython",
    "version": 3
   },
   "file_extension": ".py",
   "mimetype": "text/x-python",
   "name": "python",
   "nbconvert_exporter": "python",
   "pygments_lexer": "ipython3",
   "version": "3.9.13"
  }
 },
 "nbformat": 4,
 "nbformat_minor": 5
}
