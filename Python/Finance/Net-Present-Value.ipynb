{
 "cells": [
  {
   "cell_type": "code",
   "execution_count": 1,
   "id": "326a8fd2",
   "metadata": {},
   "outputs": [],
   "source": [
    "#NPV is defined as the present value of all benefits minus the present value of  costs\n",
    "# The present value of one future value is estimated with the following formula\n",
    "# PV = FV/(1+R)**n\n",
    "# PV = present value\n",
    "# FV = future value\n",
    "# R = period discount rate\n",
    "# n = number of periods"
   ]
  },
  {
   "cell_type": "code",
   "execution_count": 2,
   "id": "0875cf72",
   "metadata": {},
   "outputs": [],
   "source": [
    "def npv_f(rate, cashflows):\n",
    "    total= 0.0\n",
    "    for i in range(0, len(cashflows)):\n",
    "        total += cashflows[i] / (1 + rate)**i\n",
    "    return total\n",
    "rate=0.035\n",
    "cashflows=[-100,-30,10,40,50,45,20]\n"
   ]
  },
  {
   "cell_type": "code",
   "execution_count": 3,
   "id": "4d510ef4",
   "metadata": {},
   "outputs": [
    {
     "data": {
      "text/plain": [
       "14.158224763725372"
      ]
     },
     "execution_count": 3,
     "metadata": {},
     "output_type": "execute_result"
    }
   ],
   "source": [
    "npv_f(rate, cashflows)"
   ]
  },
  {
   "cell_type": "code",
   "execution_count": null,
   "id": "005bfb7e",
   "metadata": {},
   "outputs": [],
   "source": []
  }
 ],
 "metadata": {
  "kernelspec": {
   "display_name": "Python 3 (ipykernel)",
   "language": "python",
   "name": "python3"
  },
  "language_info": {
   "codemirror_mode": {
    "name": "ipython",
    "version": 3
   },
   "file_extension": ".py",
   "mimetype": "text/x-python",
   "name": "python",
   "nbconvert_exporter": "python",
   "pygments_lexer": "ipython3",
   "version": "3.9.13"
  }
 },
 "nbformat": 4,
 "nbformat_minor": 5
}
