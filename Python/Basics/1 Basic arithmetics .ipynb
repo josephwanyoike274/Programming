{
 "cells": [
  {
   "cell_type": "code",
   "execution_count": 1,
   "id": "43f18460-101e-46b5-9dde-69b1da1c49b3",
   "metadata": {},
   "outputs": [
    {
     "data": {
      "text/plain": [
       "16"
      ]
     },
     "execution_count": 1,
     "metadata": {},
     "output_type": "execute_result"
    }
   ],
   "source": [
    "50 // 3#displays the whole number of the answer\n"
   ]
  },
  {
   "cell_type": "code",
   "execution_count": 2,
   "id": "7e7c320a-bbbc-450f-9df1-11c1ecdb9adf",
   "metadata": {},
   "outputs": [
    {
     "data": {
      "text/plain": [
       "16.666666666666668"
      ]
     },
     "execution_count": 2,
     "metadata": {},
     "output_type": "execute_result"
    }
   ],
   "source": [
    "50 / 3"
   ]
  },
  {
   "cell_type": "code",
   "execution_count": 3,
   "id": "42452f85-20cb-4893-8462-3abcee0ca652",
   "metadata": {},
   "outputs": [
    {
     "data": {
      "text/plain": [
       "2"
      ]
     },
     "execution_count": 3,
     "metadata": {},
     "output_type": "execute_result"
    }
   ],
   "source": [
    "50 %3 # % is modulus it displays the remaider of that division"
   ]
  },
  {
   "cell_type": "code",
   "execution_count": 4,
   "id": "bb185484-005e-4de5-b6a1-b0b5e905a6d3",
   "metadata": {},
   "outputs": [
    {
     "data": {
      "text/plain": [
       "32"
      ]
     },
     "execution_count": 4,
     "metadata": {},
     "output_type": "execute_result"
    }
   ],
   "source": [
    "2 ** 5 # 2 to power 5"
   ]
  },
  {
   "cell_type": "code",
   "execution_count": null,
   "id": "318b890e-c75e-4b3c-a959-e4aebed043d8",
   "metadata": {},
   "outputs": [],
   "source": []
  }
 ],
 "metadata": {
  "kernelspec": {
   "display_name": "Python 3 (ipykernel)",
   "language": "python",
   "name": "python3"
  },
  "language_info": {
   "codemirror_mode": {
    "name": "ipython",
    "version": 3
   },
   "file_extension": ".py",
   "mimetype": "text/x-python",
   "name": "python",
   "nbconvert_exporter": "python",
   "pygments_lexer": "ipython3",
   "version": "3.8.5"
  }
 },
 "nbformat": 4,
 "nbformat_minor": 5
}
