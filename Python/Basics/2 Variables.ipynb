{
 "cells": [
  {
   "cell_type": "code",
   "execution_count": 1,
   "id": "741ae670-6beb-435c-b31c-bac3526c1ba8",
   "metadata": {},
   "outputs": [],
   "source": [
    "myint = 9 #all variables are objects\n",
    "#in python we dont indicate the type of variable when declaring a variable"
   ]
  },
  {
   "cell_type": "code",
   "execution_count": 2,
   "id": "4232b921-6ec1-40d1-bfbd-d7c40c929bad",
   "metadata": {},
   "outputs": [
    {
     "data": {
      "text/plain": [
       "9"
      ]
     },
     "execution_count": 2,
     "metadata": {},
     "output_type": "execute_result"
    }
   ],
   "source": [
    "myint"
   ]
  },
  {
   "cell_type": "code",
   "execution_count": 3,
   "id": "6a410486-a5a6-423d-aa05-45a64eb92b97",
   "metadata": {},
   "outputs": [
    {
     "data": {
      "text/plain": [
       "100000000000.0"
      ]
     },
     "execution_count": 3,
     "metadata": {},
     "output_type": "execute_result"
    }
   ],
   "source": [
    "mynum = 10e10# means 10 power 10\n",
    "mynum"
   ]
  },
  {
   "cell_type": "code",
   "execution_count": 4,
   "id": "f2f40db7-3a81-4076-a341-5fe6db3fe319",
   "metadata": {},
   "outputs": [
    {
     "data": {
      "text/plain": [
       "'Joseph Wanyoike'"
      ]
     },
     "execution_count": 4,
     "metadata": {},
     "output_type": "execute_result"
    }
   ],
   "source": [
    "mystring = \"Joseph Wanyoike\"\n",
    "mystring"
   ]
  },
  {
   "cell_type": "code",
   "execution_count": 5,
   "id": "fa0c495e-6bd1-4904-83bf-c6040ff54343",
   "metadata": {},
   "outputs": [],
   "source": [
    "#re assignment is possible"
   ]
  },
  {
   "cell_type": "code",
   "execution_count": 6,
   "id": "5ee4defc-3437-4417-acc5-00e70f2dadf1",
   "metadata": {},
   "outputs": [
    {
     "data": {
      "text/plain": [
       "str"
      ]
     },
     "execution_count": 6,
     "metadata": {},
     "output_type": "execute_result"
    }
   ],
   "source": [
    "type (mystring)#displays the ype of that variable"
   ]
  },
  {
   "cell_type": "code",
   "execution_count": 7,
   "id": "00952f81-13a6-4bcc-960b-d6fac3fb3897",
   "metadata": {},
   "outputs": [
    {
     "data": {
      "text/plain": [
       "float"
      ]
     },
     "execution_count": 7,
     "metadata": {},
     "output_type": "execute_result"
    }
   ],
   "source": [
    "type(mynum)"
   ]
  },
  {
   "cell_type": "code",
   "execution_count": 8,
   "id": "eaecdb33-4f98-421e-9746-e2efca58246d",
   "metadata": {},
   "outputs": [],
   "source": [
    "myfloat = 40.10"
   ]
  },
  {
   "cell_type": "code",
   "execution_count": 9,
   "id": "6c123e70-fa23-4bbe-a2d0-d25740bbc72a",
   "metadata": {},
   "outputs": [
    {
     "data": {
      "text/plain": [
       "100000000040.1"
      ]
     },
     "execution_count": 9,
     "metadata": {},
     "output_type": "execute_result"
    }
   ],
   "source": [
    "mynum + myfloat#addition of two varibles"
   ]
  },
  {
   "cell_type": "code",
   "execution_count": null,
   "id": "b5548138-b04d-4f70-921b-6ad507d782a2",
   "metadata": {},
   "outputs": [],
   "source": []
  }
 ],
 "metadata": {
  "kernelspec": {
   "display_name": "Python 3 (ipykernel)",
   "language": "python",
   "name": "python3"
  },
  "language_info": {
   "codemirror_mode": {
    "name": "ipython",
    "version": 3
   },
   "file_extension": ".py",
   "mimetype": "text/x-python",
   "name": "python",
   "nbconvert_exporter": "python",
   "pygments_lexer": "ipython3",
   "version": "3.8.5"
  }
 },
 "nbformat": 4,
 "nbformat_minor": 5
}
