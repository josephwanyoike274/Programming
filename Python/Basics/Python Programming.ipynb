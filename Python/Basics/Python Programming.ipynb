{
 "cells": [
  {
   "cell_type": "code",
   "execution_count": 1,
   "id": "d952b3b9",
   "metadata": {},
   "outputs": [
    {
     "data": {
      "text/plain": [
       "16"
      ]
     },
     "execution_count": 1,
     "metadata": {},
     "output_type": "execute_result"
    }
   ],
   "source": [
    "50//3\n"
   ]
  },
  {
   "cell_type": "code",
   "execution_count": 2,
   "id": "8e5af48e",
   "metadata": {},
   "outputs": [
    {
     "data": {
      "text/plain": [
       "16.666666666666668"
      ]
     },
     "execution_count": 2,
     "metadata": {},
     "output_type": "execute_result"
    }
   ],
   "source": [
    "50/3\n"
   ]
  },
  {
   "cell_type": "code",
   "execution_count": 9,
   "id": "e5ebb066",
   "metadata": {},
   "outputs": [
    {
     "data": {
      "text/plain": [
       "float"
      ]
     },
     "execution_count": 9,
     "metadata": {},
     "output_type": "execute_result"
    }
   ],
   "source": [
    "myint = 10\n",
    "myfloat = float(myint)\n",
    "myfloat\n",
    "type (myfloat)"
   ]
  },
  {
   "cell_type": "code",
   "execution_count": 8,
   "id": "7c0f3e53",
   "metadata": {},
   "outputs": [
    {
     "data": {
      "text/plain": [
       "int"
      ]
     },
     "execution_count": 8,
     "metadata": {},
     "output_type": "execute_result"
    }
   ],
   "source": [
    "type (myint)"
   ]
  },
  {
   "cell_type": "code",
   "execution_count": 11,
   "id": "1c2d8287",
   "metadata": {},
   "outputs": [
    {
     "name": "stdout",
     "output_type": "stream",
     "text": [
      "312500000\n"
     ]
    }
   ],
   "source": [
    "print (50**5)"
   ]
  },
  {
   "cell_type": "code",
   "execution_count": 13,
   "id": "cb8d9601",
   "metadata": {},
   "outputs": [
    {
     "name": "stdout",
     "output_type": "stream",
     "text": [
      "50 * 10 = 500\n"
     ]
    }
   ],
   "source": [
    "x = 50\n",
    "y = 10\n",
    "print (\"{0} * {1} = {2}\".format (x, y, x*y))"
   ]
  },
  {
   "cell_type": "code",
   "execution_count": 14,
   "id": "f7b1d1d7",
   "metadata": {},
   "outputs": [
    {
     "name": "stdout",
     "output_type": "stream",
     "text": [
      "Hello----------World\n"
     ]
    }
   ],
   "source": [
    "print (\"Hello\", \"World\", sep=\"----------\")"
   ]
  },
  {
   "cell_type": "code",
   "execution_count": 17,
   "id": "8bcabcdd",
   "metadata": {},
   "outputs": [
    {
     "name": "stdout",
     "output_type": "stream",
     "text": [
      "Hello MUTHONI\n"
     ]
    }
   ],
   "source": [
    "name = \"MUTHONI\"\n",
    "print (\"Hello %s\" % name)"
   ]
  },
  {
   "cell_type": "code",
   "execution_count": 18,
   "id": "8f1bdc85",
   "metadata": {},
   "outputs": [],
   "source": [
    "age = 18\n"
   ]
  },
  {
   "cell_type": "code",
   "execution_count": 20,
   "id": "e1262c7d",
   "metadata": {},
   "outputs": [
    {
     "name": "stdout",
     "output_type": "stream",
     "text": [
      "Hello MUTHONI ! are you 18 years old \n"
     ]
    }
   ],
   "source": [
    "print (\"Hello %s ! are you %d years old \" % (name, age))"
   ]
  },
  {
   "cell_type": "code",
   "execution_count": 21,
   "id": "43ecc9a5",
   "metadata": {},
   "outputs": [
    {
     "data": {
      "text/plain": [
       "1"
      ]
     },
     "execution_count": 21,
     "metadata": {},
     "output_type": "execute_result"
    }
   ],
   "source": [
    "50%7"
   ]
  },
  {
   "cell_type": "code",
   "execution_count": 22,
   "id": "5d0da493",
   "metadata": {},
   "outputs": [
    {
     "data": {
      "text/plain": [
       "1"
      ]
     },
     "execution_count": 22,
     "metadata": {},
     "output_type": "execute_result"
    }
   ],
   "source": [
    "9%2\n"
   ]
  },
  {
   "cell_type": "code",
   "execution_count": null,
   "id": "94f3ec40",
   "metadata": {},
   "outputs": [],
   "source": [
    "year = float (input(\"Enter the year\"))\n",
    "if year%4 == 0:\n",
    "    print (\"thats a leap year\")"
   ]
  },
  {
   "cell_type": "code",
   "execution_count": 16,
   "id": "c558a95e",
   "metadata": {},
   "outputs": [
    {
     "name": "stdout",
     "output_type": "stream",
     "text": [
      "enter year 2021\n",
      "enter day 27\n",
      "enter month 4\n",
      "thats not a leap year \n",
      "thats not my birthday year\n",
      "thats my birthday\n"
     ]
    }
   ],
   "source": [
    "year = int (input(\"enter year \"))\n",
    "day = int (input (\"enter day \"))\n",
    "month = int (input (\"enter month \"))\n",
    "if year%4 == 0:\n",
    "    print(\"that a leap year \")\n",
    "else:\n",
    "    print (\"thats not a leap year \")\n",
    "\n",
    "if year == 1994:\n",
    "    print (\"thats my birthday year\")\n",
    "else:\n",
    "    print (\"thats not my birthday year\")\n",
    "    \n",
    "if day == 27 and month == 4:\n",
    "    print (\"thats my birthday\")\n",
    "else:\n",
    "    print (\"its not yet my birthday\")"
   ]
  },
  {
   "cell_type": "code",
   "execution_count": null,
   "id": "3b02cc20",
   "metadata": {},
   "outputs": [],
   "source": []
  },
  {
   "cell_type": "code",
   "execution_count": null,
   "id": "78a63a24",
   "metadata": {},
   "outputs": [],
   "source": []
  },
  {
   "cell_type": "code",
   "execution_count": 1,
   "id": "01fcfb83",
   "metadata": {},
   "outputs": [
    {
     "data": {
      "text/plain": [
       "1024"
      ]
     },
     "execution_count": 1,
     "metadata": {},
     "output_type": "execute_result"
    }
   ],
   "source": [
    "pow (2, 10)"
   ]
  },
  {
   "cell_type": "code",
   "execution_count": 3,
   "id": "0adeca9c",
   "metadata": {},
   "outputs": [
    {
     "data": {
      "text/plain": [
       "312500000"
      ]
     },
     "execution_count": 3,
     "metadata": {},
     "output_type": "execute_result"
    }
   ],
   "source": [
    "pow (50, 5)"
   ]
  },
  {
   "cell_type": "code",
   "execution_count": 4,
   "id": "65e73f0e",
   "metadata": {},
   "outputs": [
    {
     "data": {
      "text/plain": [
       "23"
      ]
     },
     "execution_count": 4,
     "metadata": {},
     "output_type": "execute_result"
    }
   ],
   "source": [
    "len (\"joseph wanyoike njoroge\")"
   ]
  },
  {
   "cell_type": "code",
   "execution_count": 25,
   "id": "c4448b03",
   "metadata": {},
   "outputs": [
    {
     "data": {
      "text/plain": [
       "89878"
      ]
     },
     "execution_count": 25,
     "metadata": {},
     "output_type": "execute_result"
    }
   ],
   "source": [
    "max1 = [10,99, 444,65, 89878]\n",
    "max(max1)\n",
    "\n"
   ]
  },
  {
   "cell_type": "code",
   "execution_count": 24,
   "id": "e9030e38",
   "metadata": {},
   "outputs": [
    {
     "name": "stdout",
     "output_type": "stream",
     "text": [
      "Enter a Number 63\n",
      "the Square root is 7.937254 \n"
     ]
    }
   ],
   "source": [
    "import math\n",
    "number = float (input (\"Enter a Number \"))\n",
    "square_root = math.sqrt(number)\n",
    "print (\"the Square root is %f \" % square_root)"
   ]
  },
  {
   "cell_type": "code",
   "execution_count": 28,
   "id": "b51cf69b",
   "metadata": {},
   "outputs": [
    {
     "name": "stdout",
     "output_type": "stream",
     "text": [
      "Enter a 52\n",
      "Enter b 45\n",
      "Enter c 78\n",
      "Enter d 966\n",
      "Enter e 35\n",
      "The max value is:  966.0\n"
     ]
    }
   ],
   "source": [
    "a = float(input (\"Enter a \"))\n",
    "b = float(input (\"Enter b \"))\n",
    "c = float(input (\"Enter c \"))\n",
    "d = float(input (\"Enter d \"))\n",
    "e = float(input (\"Enter e \"))\n",
    "\n",
    "print (\"The max value is: \", max(a,b,c,d,e))"
   ]
  },
  {
   "cell_type": "code",
   "execution_count": null,
   "id": "bcd07e7c",
   "metadata": {},
   "outputs": [],
   "source": []
  },
  {
   "cell_type": "code",
   "execution_count": 9,
   "id": "12669e92",
   "metadata": {},
   "outputs": [
    {
     "name": "stdout",
     "output_type": "stream",
     "text": [
      "Joseph wanyoike njoroge\n",
      "JOSEPH WANYOIKE NJOROGE\n",
      "financial analyst\n"
     ]
    }
   ],
   "source": [
    "name = \"joseph wanyoike njoroge\"\n",
    "profession = \"FINANCIAL ANALYST\"\n",
    "wife = \"    hottensia njeri    \"\n",
    "print (name.capitalize())\n",
    "print (name.upper())\n",
    "print (profession.lower())"
   ]
  },
  {
   "cell_type": "code",
   "execution_count": 5,
   "id": "dbabe9c8",
   "metadata": {},
   "outputs": [
    {
     "name": "stdout",
     "output_type": "stream",
     "text": [
      "j\n",
      "N\n"
     ]
    }
   ],
   "source": [
    "print (name[0])\n",
    "print (profession[2])"
   ]
  },
  {
   "cell_type": "code",
   "execution_count": 10,
   "id": "b0ee8745",
   "metadata": {},
   "outputs": [
    {
     "name": "stdout",
     "output_type": "stream",
     "text": [
      "jos\n",
      "hottensia njeri\n"
     ]
    }
   ],
   "source": [
    "print (name[0:3])\n",
    "print (wife.strip())"
   ]
  },
  {
   "cell_type": "code",
   "execution_count": 13,
   "id": "f9b1d8f5",
   "metadata": {},
   "outputs": [
    {
     "name": "stdout",
     "output_type": "stream",
     "text": [
      "True\n",
      "False\n",
      "True\n",
      "False\n",
      "    hottensya njery    \n"
     ]
    }
   ],
   "source": [
    "print (name.islower())\n",
    "print (name.isupper())\n",
    "print (profession.isupper())\n",
    "print (profession.islower())\n",
    "print (wife.replace(\"i\", \"y\"))"
   ]
  },
  {
   "cell_type": "code",
   "execution_count": 16,
   "id": "7dc86538",
   "metadata": {},
   "outputs": [
    {
     "name": "stdout",
     "output_type": "stream",
     "text": [
      "['hello', 'my', 'name', 'is', 'joseph', 'wanyoike', 'njoroge', 'and', 'am', 'a', 'programmer']\n"
     ]
    }
   ],
   "source": [
    "sentence = \"hello, my, name, is, joseph, wanyoike, njoroge, and, am, a, programmer\"\n",
    "print (sentence.split (', '))"
   ]
  },
  {
   "cell_type": "code",
   "execution_count": 18,
   "id": "0dfee4f7",
   "metadata": {},
   "outputs": [
    {
     "name": "stdout",
     "output_type": "stream",
     "text": [
      "hello, my, name, is, joseph, wanyoike, njoroge, and, am, a, programmerhello, my, name, is, joseph, wanyoike, njoroge, and, am, a, programmerhello, my, name, is, joseph, wanyoike, njoroge, and, am, a, programmerhello, my, name, is, joseph, wanyoike, njoroge, and, am, a, programmerhello, my, name, is, joseph, wanyoike, njoroge, and, am, a, programmerhello, my, name, is, joseph, wanyoike, njoroge, and, am, a, programmerhello, my, name, is, joseph, wanyoike, njoroge, and, am, a, programmerhello, my, name, is, joseph, wanyoike, njoroge, and, am, a, programmerhello, my, name, is, joseph, wanyoike, njoroge, and, am, a, programmerhello, my, name, is, joseph, wanyoike, njoroge, and, am, a, programmer\n"
     ]
    }
   ],
   "source": [
    "print (sentence * 10)"
   ]
  },
  {
   "cell_type": "code",
   "execution_count": 19,
   "id": "dcc40ebe",
   "metadata": {},
   "outputs": [
    {
     "data": {
      "text/plain": [
       "True"
      ]
     },
     "execution_count": 19,
     "metadata": {},
     "output_type": "execute_result"
    }
   ],
   "source": [
    "10 > 6"
   ]
  },
  {
   "cell_type": "code",
   "execution_count": 21,
   "id": "f9c17dac",
   "metadata": {},
   "outputs": [
    {
     "data": {
      "text/plain": [
       "True"
      ]
     },
     "execution_count": 21,
     "metadata": {},
     "output_type": "execute_result"
    }
   ],
   "source": [
    "10 != 2"
   ]
  },
  {
   "cell_type": "code",
   "execution_count": 25,
   "id": "16cb8db6",
   "metadata": {},
   "outputs": [
    {
     "data": {
      "text/plain": [
       "True"
      ]
     },
     "execution_count": 25,
     "metadata": {},
     "output_type": "execute_result"
    }
   ],
   "source": [
    "a = 10\n",
    "b = 20\n",
    "c = 30\n",
    "d = 10\n",
    "\n",
    "a < b\n"
   ]
  },
  {
   "cell_type": "code",
   "execution_count": 26,
   "id": "475b3642",
   "metadata": {},
   "outputs": [
    {
     "data": {
      "text/plain": [
       "True"
      ]
     },
     "execution_count": 26,
     "metadata": {},
     "output_type": "execute_result"
    }
   ],
   "source": [
    "a == d"
   ]
  },
  {
   "cell_type": "code",
   "execution_count": 29,
   "id": "a39f00e7",
   "metadata": {},
   "outputs": [],
   "source": [
    "x = \"joseph\"\n",
    "y = \"anyoike031\"\n",
    "z = \"JOROGE\""
   ]
  },
  {
   "cell_type": "code",
   "execution_count": 31,
   "id": "49d497fc",
   "metadata": {},
   "outputs": [
    {
     "data": {
      "text/plain": [
       "True"
      ]
     },
     "execution_count": 31,
     "metadata": {},
     "output_type": "execute_result"
    }
   ],
   "source": [
    "x.islower()"
   ]
  },
  {
   "cell_type": "code",
   "execution_count": 33,
   "id": "59b92b31",
   "metadata": {},
   "outputs": [
    {
     "data": {
      "text/plain": [
       "False"
      ]
     },
     "execution_count": 33,
     "metadata": {},
     "output_type": "execute_result"
    }
   ],
   "source": [
    "y.isalpha()"
   ]
  },
  {
   "cell_type": "code",
   "execution_count": 35,
   "id": "5e2a40ae",
   "metadata": {},
   "outputs": [
    {
     "data": {
      "text/plain": [
       "True"
      ]
     },
     "execution_count": 35,
     "metadata": {},
     "output_type": "execute_result"
    }
   ],
   "source": [
    "y.isalnum()"
   ]
  },
  {
   "cell_type": "code",
   "execution_count": 1,
   "id": "f8114e4c",
   "metadata": {},
   "outputs": [],
   "source": [
    "#12 july 2021 "
   ]
  },
  {
   "cell_type": "code",
   "execution_count": 2,
   "id": "f4e2594c",
   "metadata": {},
   "outputs": [],
   "source": [
    "#boolean, comparison, operators and logical operators in python"
   ]
  },
  {
   "cell_type": "code",
   "execution_count": 1,
   "id": "bffb9601",
   "metadata": {},
   "outputs": [
    {
     "data": {
      "text/plain": [
       "True"
      ]
     },
     "execution_count": 1,
     "metadata": {},
     "output_type": "execute_result"
    }
   ],
   "source": [
    "'hello' == 'hello'"
   ]
  },
  {
   "cell_type": "code",
   "execution_count": 2,
   "id": "0611d1e9",
   "metadata": {},
   "outputs": [
    {
     "data": {
      "text/plain": [
       "False"
      ]
     },
     "execution_count": 2,
     "metadata": {},
     "output_type": "execute_result"
    }
   ],
   "source": [
    "14 > 54"
   ]
  },
  {
   "cell_type": "code",
   "execution_count": 4,
   "id": "111d02ef",
   "metadata": {},
   "outputs": [
    {
     "data": {
      "text/plain": [
       "True"
      ]
     },
     "execution_count": 4,
     "metadata": {},
     "output_type": "execute_result"
    }
   ],
   "source": [
    "'hello'.islower()"
   ]
  },
  {
   "cell_type": "code",
   "execution_count": 5,
   "id": "60705889",
   "metadata": {},
   "outputs": [
    {
     "data": {
      "text/plain": [
       "True"
      ]
     },
     "execution_count": 5,
     "metadata": {},
     "output_type": "execute_result"
    }
   ],
   "source": [
    "'hello123'.isalnum()"
   ]
  },
  {
   "cell_type": "code",
   "execution_count": 9,
   "id": "76eb905f",
   "metadata": {},
   "outputs": [
    {
     "data": {
      "text/plain": [
       "False"
      ]
     },
     "execution_count": 9,
     "metadata": {},
     "output_type": "execute_result"
    }
   ],
   "source": [
    "x = 89\n",
    "y = 50\n",
    "z = 15\n",
    "\n",
    "x > y and y < z\n",
    "\n",
    " "
   ]
  },
  {
   "cell_type": "code",
   "execution_count": 8,
   "id": "98dcfeb4",
   "metadata": {},
   "outputs": [
    {
     "data": {
      "text/plain": [
       "True"
      ]
     },
     "execution_count": 8,
     "metadata": {},
     "output_type": "execute_result"
    }
   ],
   "source": [
    "y > z or y > x"
   ]
  },
  {
   "cell_type": "code",
   "execution_count": 10,
   "id": "3e3e0afd",
   "metadata": {},
   "outputs": [
    {
     "data": {
      "text/plain": [
       "True"
      ]
     },
     "execution_count": 10,
     "metadata": {},
     "output_type": "execute_result"
    }
   ],
   "source": [
    "not x <y"
   ]
  },
  {
   "cell_type": "code",
   "execution_count": 11,
   "id": "1026ad5f",
   "metadata": {},
   "outputs": [],
   "source": [
    "#conditional statements if...else statements"
   ]
  },
  {
   "cell_type": "code",
   "execution_count": 15,
   "id": "17b10480",
   "metadata": {},
   "outputs": [
    {
     "name": "stdout",
     "output_type": "stream",
     "text": [
      "year2021\n",
      "NOT LEAP YEAR\n"
     ]
    }
   ],
   "source": [
    "year = int(input(\"year\"))\n",
    "if year%4 == 0:\n",
    "    print(\"LEAP YEAR\")\n",
    "else:\n",
    "    print(\"NOT LEAP YEAR\")"
   ]
  },
  {
   "cell_type": "code",
   "execution_count": 32,
   "id": "a02a4a5b",
   "metadata": {},
   "outputs": [
    {
     "name": "stdout",
     "output_type": "stream",
     "text": [
      "number5\n",
      "Number is in ones\n",
      "NUMBER ENTERED IS:  5.0\n"
     ]
    }
   ],
   "source": [
    "number = float(input(\"number\"))\n",
    "if number < 9 and number > 0:\n",
    "    print (\"Number is in ones\")\n",
    "elif number > 10 and number < 99:\n",
    "    print (\"THAT NUMBER IS A TENS NUMBER\")\n",
    "elif number >=100 and number <= 999:\n",
    "    print (\"THAT NUMBER IS IN HUNDREDS \")\n",
    "elif number >=1000 and number <= 1000000:\n",
    "    print (\"THAT NUMBER IS IN THOUSANDS\")\n",
    "else:\n",
    "    print (\"NEGATIVE NUMBER or more than a million\")\n",
    "print (\"NUMBER ENTERED IS: \", number)"
   ]
  },
  {
   "cell_type": "code",
   "execution_count": 33,
   "id": "ead04c4a",
   "metadata": {},
   "outputs": [],
   "source": [
    "#Nested if statments"
   ]
  },
  {
   "cell_type": "code",
   "execution_count": 40,
   "id": "ea325497",
   "metadata": {},
   "outputs": [
    {
     "name": "stdout",
     "output_type": "stream",
     "text": [
      "ENTER NUMBER7\n",
      "THE NUMBER IS A POSITIVE NUMBER\n",
      "THE NUMBER IS AN ODD NUMBER\n"
     ]
    }
   ],
   "source": [
    "number2 = float(input(\"ENTER NUMBER\"))\n",
    "if number2 < 0:\n",
    "    print(\"THE NUMBER NEGATIVE\")\n",
    "else:\n",
    "    print(\"THE NUMBER IS A POSITIVE NUMBER\")\n",
    "    if (number2 % 2) == 0:\n",
    "        print(\"THE NUMBER IS AN EVEN NUMBER\")\n",
    "    else:\n",
    "        print(\"THE NUMBER IS AN ODD NUMBER\")"
   ]
  },
  {
   "cell_type": "code",
   "execution_count": 1,
   "id": "d5d9cf89",
   "metadata": {},
   "outputs": [],
   "source": [
    "#python lists"
   ]
  },
  {
   "cell_type": "code",
   "execution_count": 2,
   "id": "efad6804",
   "metadata": {},
   "outputs": [],
   "source": [
    "list1 = [10,20,30,40,50,60,70,80,90,100]"
   ]
  },
  {
   "cell_type": "code",
   "execution_count": 3,
   "id": "f370383f",
   "metadata": {},
   "outputs": [
    {
     "name": "stdout",
     "output_type": "stream",
     "text": [
      "[10, 20, 30, 40, 50, 60, 70, 80, 90, 100]\n"
     ]
    }
   ],
   "source": [
    "print(list1)"
   ]
  },
  {
   "cell_type": "code",
   "execution_count": 4,
   "id": "a0a4b74d",
   "metadata": {},
   "outputs": [
    {
     "data": {
      "text/plain": [
       "[10, 20, 30, 40, 50, 60, 70, 80, 90, 100]"
      ]
     },
     "execution_count": 4,
     "metadata": {},
     "output_type": "execute_result"
    }
   ],
   "source": [
    "list1"
   ]
  },
  {
   "cell_type": "code",
   "execution_count": 5,
   "id": "0dff48a4",
   "metadata": {},
   "outputs": [
    {
     "data": {
      "text/plain": [
       "60"
      ]
     },
     "execution_count": 5,
     "metadata": {},
     "output_type": "execute_result"
    }
   ],
   "source": [
    "list1[5]"
   ]
  },
  {
   "cell_type": "code",
   "execution_count": null,
   "id": "d437fbc3",
   "metadata": {},
   "outputs": [],
   "source": [
    "#lists can  contain different types of values"
   ]
  },
  {
   "cell_type": "code",
   "execution_count": 6,
   "id": "3ac98a87",
   "metadata": {},
   "outputs": [],
   "source": [
    "list2 = [\"hottensia\", \"CIFA\", 2021, 10.5, 89, \"joseph\", [1,2,3,4,5]]"
   ]
  },
  {
   "cell_type": "code",
   "execution_count": 7,
   "id": "19f096fa",
   "metadata": {},
   "outputs": [
    {
     "data": {
      "text/plain": [
       "10.5"
      ]
     },
     "execution_count": 7,
     "metadata": {},
     "output_type": "execute_result"
    }
   ],
   "source": [
    "list2[3]"
   ]
  },
  {
   "cell_type": "code",
   "execution_count": 8,
   "id": "86074ecf",
   "metadata": {},
   "outputs": [
    {
     "data": {
      "text/plain": [
       "3"
      ]
     },
     "execution_count": 8,
     "metadata": {},
     "output_type": "execute_result"
    }
   ],
   "source": [
    "list2[6][2]"
   ]
  },
  {
   "cell_type": "code",
   "execution_count": 9,
   "id": "57b3e409",
   "metadata": {},
   "outputs": [
    {
     "data": {
      "text/plain": [
       "10"
      ]
     },
     "execution_count": 9,
     "metadata": {},
     "output_type": "execute_result"
    }
   ],
   "source": [
    "len(list1)"
   ]
  },
  {
   "cell_type": "code",
   "execution_count": 10,
   "id": "e910b4bb",
   "metadata": {},
   "outputs": [
    {
     "data": {
      "text/plain": [
       "7"
      ]
     },
     "execution_count": 10,
     "metadata": {},
     "output_type": "execute_result"
    }
   ],
   "source": [
    "len(list2)"
   ]
  },
  {
   "cell_type": "code",
   "execution_count": 11,
   "id": "555f01bf",
   "metadata": {},
   "outputs": [],
   "source": [
    "list1.insert(11, 110)"
   ]
  },
  {
   "cell_type": "code",
   "execution_count": 12,
   "id": "85e7c64e",
   "metadata": {},
   "outputs": [
    {
     "data": {
      "text/plain": [
       "[10, 20, 30, 40, 50, 60, 70, 80, 90, 100, 110]"
      ]
     },
     "execution_count": 12,
     "metadata": {},
     "output_type": "execute_result"
    }
   ],
   "source": [
    "list1"
   ]
  },
  {
   "cell_type": "code",
   "execution_count": 13,
   "id": "de7b29af",
   "metadata": {},
   "outputs": [],
   "source": [
    "list2.insert(1, \"loves wanyoike\")"
   ]
  },
  {
   "cell_type": "code",
   "execution_count": 14,
   "id": "ee76cd92",
   "metadata": {},
   "outputs": [
    {
     "data": {
      "text/plain": [
       "['hottensia',\n",
       " 'loves wanyoike',\n",
       " 'CIFA',\n",
       " 2021,\n",
       " 10.5,\n",
       " 89,\n",
       " 'joseph',\n",
       " [1, 2, 3, 4, 5]]"
      ]
     },
     "execution_count": 14,
     "metadata": {},
     "output_type": "execute_result"
    }
   ],
   "source": [
    "list2"
   ]
  },
  {
   "cell_type": "code",
   "execution_count": 15,
   "id": "707ee81f",
   "metadata": {},
   "outputs": [],
   "source": [
    "list2.insert(8, \"to be removed\")"
   ]
  },
  {
   "cell_type": "code",
   "execution_count": 16,
   "id": "d7538456",
   "metadata": {},
   "outputs": [
    {
     "data": {
      "text/plain": [
       "['hottensia',\n",
       " 'loves wanyoike',\n",
       " 'CIFA',\n",
       " 2021,\n",
       " 10.5,\n",
       " 89,\n",
       " 'joseph',\n",
       " [1, 2, 3, 4, 5],\n",
       " 'to be removed']"
      ]
     },
     "execution_count": 16,
     "metadata": {},
     "output_type": "execute_result"
    }
   ],
   "source": [
    "list2"
   ]
  },
  {
   "cell_type": "code",
   "execution_count": 17,
   "id": "eb7be008",
   "metadata": {},
   "outputs": [],
   "source": [
    "list2.remove(\"to be removed\")"
   ]
  },
  {
   "cell_type": "code",
   "execution_count": 18,
   "id": "59c4df2a",
   "metadata": {},
   "outputs": [
    {
     "data": {
      "text/plain": [
       "['hottensia',\n",
       " 'loves wanyoike',\n",
       " 'CIFA',\n",
       " 2021,\n",
       " 10.5,\n",
       " 89,\n",
       " 'joseph',\n",
       " [1, 2, 3, 4, 5]]"
      ]
     },
     "execution_count": 18,
     "metadata": {},
     "output_type": "execute_result"
    }
   ],
   "source": [
    "list2"
   ]
  },
  {
   "cell_type": "code",
   "execution_count": 19,
   "id": "a840fbbe",
   "metadata": {},
   "outputs": [],
   "source": [
    "list2.insert(8, \"to be popped\")"
   ]
  },
  {
   "cell_type": "code",
   "execution_count": 20,
   "id": "db39d1c8",
   "metadata": {},
   "outputs": [
    {
     "data": {
      "text/plain": [
       "['hottensia',\n",
       " 'loves wanyoike',\n",
       " 'CIFA',\n",
       " 2021,\n",
       " 10.5,\n",
       " 89,\n",
       " 'joseph',\n",
       " [1, 2, 3, 4, 5],\n",
       " 'to be popped']"
      ]
     },
     "execution_count": 20,
     "metadata": {},
     "output_type": "execute_result"
    }
   ],
   "source": [
    "list2"
   ]
  },
  {
   "cell_type": "code",
   "execution_count": 21,
   "id": "1654ba95",
   "metadata": {},
   "outputs": [
    {
     "data": {
      "text/plain": [
       "'to be popped'"
      ]
     },
     "execution_count": 21,
     "metadata": {},
     "output_type": "execute_result"
    }
   ],
   "source": [
    "list2.pop()"
   ]
  },
  {
   "cell_type": "code",
   "execution_count": 22,
   "id": "319bb415",
   "metadata": {},
   "outputs": [
    {
     "data": {
      "text/plain": [
       "['hottensia',\n",
       " 'loves wanyoike',\n",
       " 'CIFA',\n",
       " 2021,\n",
       " 10.5,\n",
       " 89,\n",
       " 'joseph',\n",
       " [1, 2, 3, 4, 5]]"
      ]
     },
     "execution_count": 22,
     "metadata": {},
     "output_type": "execute_result"
    }
   ],
   "source": [
    "list2"
   ]
  },
  {
   "cell_type": "code",
   "execution_count": 27,
   "id": "84980c0b",
   "metadata": {},
   "outputs": [
    {
     "data": {
      "text/plain": [
       "[1, 2, 3, 4, 5, 6, 7, 8, 9]"
      ]
     },
     "execution_count": 27,
     "metadata": {},
     "output_type": "execute_result"
    }
   ],
   "source": [
    "list3 = [1,2,3,4,5,6,7,8,9]\n",
    "list3"
   ]
  },
  {
   "cell_type": "code",
   "execution_count": 28,
   "id": "428335ec",
   "metadata": {},
   "outputs": [],
   "source": [
    "del list3 #deletes the whole list"
   ]
  },
  {
   "cell_type": "code",
   "execution_count": 29,
   "id": "69cdbda3",
   "metadata": {},
   "outputs": [
    {
     "ename": "NameError",
     "evalue": "name 'list3' is not defined",
     "output_type": "error",
     "traceback": [
      "\u001b[1;31m---------------------------------------------------------------------------\u001b[0m",
      "\u001b[1;31mNameError\u001b[0m                                 Traceback (most recent call last)",
      "\u001b[1;32m<ipython-input-29-a8df83817861>\u001b[0m in \u001b[0;36m<module>\u001b[1;34m\u001b[0m\n\u001b[1;32m----> 1\u001b[1;33m \u001b[0mlist3\u001b[0m\u001b[1;33m\u001b[0m\u001b[1;33m\u001b[0m\u001b[0m\n\u001b[0m",
      "\u001b[1;31mNameError\u001b[0m: name 'list3' is not defined"
     ]
    }
   ],
   "source": [
    "list3"
   ]
  },
  {
   "cell_type": "code",
   "execution_count": 30,
   "id": "36ca9779",
   "metadata": {},
   "outputs": [],
   "source": [
    "list4 = [89,45,32,15,97,32,12,35,68,12,15,15,78,15]"
   ]
  },
  {
   "cell_type": "code",
   "execution_count": 31,
   "id": "3b20af30",
   "metadata": {},
   "outputs": [
    {
     "data": {
      "text/plain": [
       "[89, 45, 32, 15, 97, 32, 12, 35, 68, 12, 15, 15, 78, 15]"
      ]
     },
     "execution_count": 31,
     "metadata": {},
     "output_type": "execute_result"
    }
   ],
   "source": [
    "list4"
   ]
  },
  {
   "cell_type": "code",
   "execution_count": 32,
   "id": "5bf06ac0",
   "metadata": {},
   "outputs": [],
   "source": [
    "list5 = list4.copy()"
   ]
  },
  {
   "cell_type": "code",
   "execution_count": 33,
   "id": "d1b9e4b0",
   "metadata": {},
   "outputs": [
    {
     "data": {
      "text/plain": [
       "[89, 45, 32, 15, 97, 32, 12, 35, 68, 12, 15, 15, 78, 15]"
      ]
     },
     "execution_count": 33,
     "metadata": {},
     "output_type": "execute_result"
    }
   ],
   "source": [
    "list5"
   ]
  },
  {
   "cell_type": "code",
   "execution_count": 34,
   "id": "ce4cd003",
   "metadata": {},
   "outputs": [
    {
     "data": {
      "text/plain": [
       "[89, 45, 32, 15, 97, 32, 12, 35, 68, 12, 15, 15, 78, 15]"
      ]
     },
     "execution_count": 34,
     "metadata": {},
     "output_type": "execute_result"
    }
   ],
   "source": [
    "list4"
   ]
  },
  {
   "cell_type": "code",
   "execution_count": 35,
   "id": "f580637b",
   "metadata": {},
   "outputs": [],
   "source": [
    "list4.clear()"
   ]
  },
  {
   "cell_type": "code",
   "execution_count": 36,
   "id": "f20d842c",
   "metadata": {},
   "outputs": [
    {
     "data": {
      "text/plain": [
       "[]"
      ]
     },
     "execution_count": 36,
     "metadata": {},
     "output_type": "execute_result"
    }
   ],
   "source": [
    "list4"
   ]
  },
  {
   "cell_type": "code",
   "execution_count": 37,
   "id": "09d4ea0e",
   "metadata": {},
   "outputs": [],
   "source": [
    "list5.sort()"
   ]
  },
  {
   "cell_type": "code",
   "execution_count": 38,
   "id": "c2661994",
   "metadata": {},
   "outputs": [
    {
     "data": {
      "text/plain": [
       "[12, 12, 15, 15, 15, 15, 32, 32, 35, 45, 68, 78, 89, 97]"
      ]
     },
     "execution_count": 38,
     "metadata": {},
     "output_type": "execute_result"
    }
   ],
   "source": [
    "list5"
   ]
  },
  {
   "cell_type": "code",
   "execution_count": 39,
   "id": "6d02867d",
   "metadata": {},
   "outputs": [],
   "source": [
    "list5.append(2021)"
   ]
  },
  {
   "cell_type": "code",
   "execution_count": 40,
   "id": "fc28cf0a",
   "metadata": {},
   "outputs": [
    {
     "data": {
      "text/plain": [
       "[12, 12, 15, 15, 15, 15, 32, 32, 35, 45, 68, 78, 89, 97, 2021]"
      ]
     },
     "execution_count": 40,
     "metadata": {},
     "output_type": "execute_result"
    }
   ],
   "source": [
    "list5"
   ]
  },
  {
   "cell_type": "code",
   "execution_count": 41,
   "id": "3df14d91",
   "metadata": {},
   "outputs": [],
   "source": [
    "list5.reverse()"
   ]
  },
  {
   "cell_type": "code",
   "execution_count": 42,
   "id": "913d1534",
   "metadata": {},
   "outputs": [
    {
     "data": {
      "text/plain": [
       "[2021, 97, 89, 78, 68, 45, 35, 32, 32, 15, 15, 15, 15, 12, 12]"
      ]
     },
     "execution_count": 42,
     "metadata": {},
     "output_type": "execute_result"
    }
   ],
   "source": [
    "list5"
   ]
  },
  {
   "cell_type": "code",
   "execution_count": 43,
   "id": "5e64771f",
   "metadata": {},
   "outputs": [
    {
     "data": {
      "text/plain": [
       "2"
      ]
     },
     "execution_count": 43,
     "metadata": {},
     "output_type": "execute_result"
    }
   ],
   "source": [
    "list5.count(12)"
   ]
  },
  {
   "cell_type": "code",
   "execution_count": 44,
   "id": "0608f169",
   "metadata": {},
   "outputs": [
    {
     "data": {
      "text/plain": [
       "4"
      ]
     },
     "execution_count": 44,
     "metadata": {},
     "output_type": "execute_result"
    }
   ],
   "source": [
    "list5.count(15)"
   ]
  },
  {
   "cell_type": "code",
   "execution_count": 45,
   "id": "0aebaf2a",
   "metadata": {},
   "outputs": [],
   "source": [
    "#tuples\n"
   ]
  },
  {
   "cell_type": "code",
   "execution_count": 46,
   "id": "f0d419d6",
   "metadata": {},
   "outputs": [],
   "source": [
    "tuple1 = (10,20,30,40,50,60,70,80,90,100)"
   ]
  },
  {
   "cell_type": "code",
   "execution_count": 47,
   "id": "cf6ccef4",
   "metadata": {},
   "outputs": [
    {
     "data": {
      "text/plain": [
       "(10, 20, 30, 40, 50, 60, 70, 80, 90, 100)"
      ]
     },
     "execution_count": 47,
     "metadata": {},
     "output_type": "execute_result"
    }
   ],
   "source": [
    "tuple1"
   ]
  },
  {
   "cell_type": "code",
   "execution_count": 66,
   "id": "1ae5b278",
   "metadata": {},
   "outputs": [
    {
     "data": {
      "text/plain": [
       "100"
      ]
     },
     "execution_count": 66,
     "metadata": {},
     "output_type": "execute_result"
    }
   ],
   "source": [
    "max(tuple1)"
   ]
  },
  {
   "cell_type": "code",
   "execution_count": 67,
   "id": "2befa905",
   "metadata": {},
   "outputs": [
    {
     "data": {
      "text/plain": [
       "10"
      ]
     },
     "execution_count": 67,
     "metadata": {},
     "output_type": "execute_result"
    }
   ],
   "source": [
    "min(tuple1)"
   ]
  },
  {
   "cell_type": "code",
   "execution_count": 48,
   "id": "17b2fd4f",
   "metadata": {},
   "outputs": [
    {
     "data": {
      "text/plain": [
       "60"
      ]
     },
     "execution_count": 48,
     "metadata": {},
     "output_type": "execute_result"
    }
   ],
   "source": [
    "tuple1[5]"
   ]
  },
  {
   "cell_type": "code",
   "execution_count": 49,
   "id": "869f35bd",
   "metadata": {},
   "outputs": [
    {
     "data": {
      "text/plain": [
       "10"
      ]
     },
     "execution_count": 49,
     "metadata": {},
     "output_type": "execute_result"
    }
   ],
   "source": [
    "len(tuple1)"
   ]
  },
  {
   "cell_type": "code",
   "execution_count": 50,
   "id": "472c4132",
   "metadata": {},
   "outputs": [
    {
     "data": {
      "text/plain": [
       "1"
      ]
     },
     "execution_count": 50,
     "metadata": {},
     "output_type": "execute_result"
    }
   ],
   "source": [
    "tuple1.count(70)"
   ]
  },
  {
   "cell_type": "code",
   "execution_count": 51,
   "id": "d9feef02",
   "metadata": {},
   "outputs": [],
   "source": [
    "tuple2 = (\"hottensia\", 22, \"wanyoike\", 27)"
   ]
  },
  {
   "cell_type": "code",
   "execution_count": 52,
   "id": "c4e8c6a2",
   "metadata": {},
   "outputs": [
    {
     "data": {
      "text/plain": [
       "('hottensia', 22, 'wanyoike', 27)"
      ]
     },
     "execution_count": 52,
     "metadata": {},
     "output_type": "execute_result"
    }
   ],
   "source": [
    "tuple2"
   ]
  },
  {
   "cell_type": "code",
   "execution_count": 53,
   "id": "02f4e1a8",
   "metadata": {},
   "outputs": [],
   "source": [
    "tuple3 = (tuple1+tuple2)#concatenate"
   ]
  },
  {
   "cell_type": "code",
   "execution_count": 54,
   "id": "89252c9f",
   "metadata": {},
   "outputs": [
    {
     "data": {
      "text/plain": [
       "(10, 20, 30, 40, 50, 60, 70, 80, 90, 100, 'hottensia', 22, 'wanyoike', 27)"
      ]
     },
     "execution_count": 54,
     "metadata": {},
     "output_type": "execute_result"
    }
   ],
   "source": [
    "tuple3"
   ]
  },
  {
   "cell_type": "code",
   "execution_count": 65,
   "id": "a235b7f4",
   "metadata": {},
   "outputs": [
    {
     "ename": "TypeError",
     "evalue": "'>' not supported between instances of 'str' and 'int'",
     "output_type": "error",
     "traceback": [
      "\u001b[1;31m---------------------------------------------------------------------------\u001b[0m",
      "\u001b[1;31mTypeError\u001b[0m                                 Traceback (most recent call last)",
      "\u001b[1;32m<ipython-input-65-8c5c5bb732fc>\u001b[0m in \u001b[0;36m<module>\u001b[1;34m\u001b[0m\n\u001b[1;32m----> 1\u001b[1;33m \u001b[0mmax\u001b[0m\u001b[1;33m(\u001b[0m\u001b[0mtuple3\u001b[0m\u001b[1;33m)\u001b[0m\u001b[1;33m\u001b[0m\u001b[1;33m\u001b[0m\u001b[0m\n\u001b[0m",
      "\u001b[1;31mTypeError\u001b[0m: '>' not supported between instances of 'str' and 'int'"
     ]
    }
   ],
   "source": [
    "max(tuple3)"
   ]
  },
  {
   "cell_type": "code",
   "execution_count": null,
   "id": "301ca469",
   "metadata": {},
   "outputs": [],
   "source": []
  },
  {
   "cell_type": "code",
   "execution_count": null,
   "id": "66a8cdf6",
   "metadata": {},
   "outputs": [],
   "source": []
  },
  {
   "cell_type": "code",
   "execution_count": null,
   "id": "bf5efbb8",
   "metadata": {},
   "outputs": [],
   "source": []
  },
  {
   "cell_type": "code",
   "execution_count": 63,
   "id": "1f23e84a",
   "metadata": {},
   "outputs": [],
   "source": [
    "tuple4 = (\"i will get a job soon in Jesus Mighty name  \")*10"
   ]
  },
  {
   "cell_type": "code",
   "execution_count": 56,
   "id": "7d7516cb",
   "metadata": {},
   "outputs": [],
   "source": []
  },
  {
   "cell_type": "code",
   "execution_count": 64,
   "id": "5b57037b",
   "metadata": {},
   "outputs": [
    {
     "data": {
      "text/plain": [
       "'i will get a job soon in Jesus Mighty name  i will get a job soon in Jesus Mighty name  i will get a job soon in Jesus Mighty name  i will get a job soon in Jesus Mighty name  i will get a job soon in Jesus Mighty name  i will get a job soon in Jesus Mighty name  i will get a job soon in Jesus Mighty name  i will get a job soon in Jesus Mighty name  i will get a job soon in Jesus Mighty name  i will get a job soon in Jesus Mighty name  '"
      ]
     },
     "execution_count": 64,
     "metadata": {},
     "output_type": "execute_result"
    }
   ],
   "source": [
    "tuple4"
   ]
  },
  {
   "cell_type": "code",
   "execution_count": 1,
   "id": "61116d90",
   "metadata": {},
   "outputs": [],
   "source": [
    "#Sets"
   ]
  },
  {
   "cell_type": "code",
   "execution_count": 6,
   "id": "3d184551",
   "metadata": {},
   "outputs": [],
   "source": [
    "set1 = {10,20,30,40,50,60,70,80,90,100,100,100} "
   ]
  },
  {
   "cell_type": "code",
   "execution_count": 10,
   "id": "ddbf0b3d",
   "metadata": {},
   "outputs": [
    {
     "data": {
      "text/plain": [
       "{10, 20, 30, 40, 50, 60, 70, 80, 90, 100, 110}"
      ]
     },
     "execution_count": 10,
     "metadata": {},
     "output_type": "execute_result"
    }
   ],
   "source": [
    "set1 #stores unique values only # no duplicate for example 100 is printed once in answer"
   ]
  },
  {
   "cell_type": "code",
   "execution_count": 8,
   "id": "ca9db117",
   "metadata": {},
   "outputs": [],
   "source": [
    "set1.add(110)"
   ]
  },
  {
   "cell_type": "code",
   "execution_count": 9,
   "id": "d17d9063",
   "metadata": {},
   "outputs": [
    {
     "data": {
      "text/plain": [
       "{10, 20, 30, 40, 50, 60, 70, 80, 90, 100, 110}"
      ]
     },
     "execution_count": 9,
     "metadata": {},
     "output_type": "execute_result"
    }
   ],
   "source": [
    "set1"
   ]
  },
  {
   "cell_type": "code",
   "execution_count": 11,
   "id": "1e522699",
   "metadata": {},
   "outputs": [],
   "source": [
    "set1.update([120,130,140,150,160,170]) #update -> adds multiple values"
   ]
  },
  {
   "cell_type": "code",
   "execution_count": 12,
   "id": "bed586e6",
   "metadata": {},
   "outputs": [
    {
     "data": {
      "text/plain": [
       "{10, 20, 30, 40, 50, 60, 70, 80, 90, 100, 110, 120, 130, 140, 150, 160, 170}"
      ]
     },
     "execution_count": 12,
     "metadata": {},
     "output_type": "execute_result"
    }
   ],
   "source": [
    "set1"
   ]
  },
  {
   "cell_type": "code",
   "execution_count": 13,
   "id": "1280c348",
   "metadata": {},
   "outputs": [],
   "source": [
    "set1.remove(170)"
   ]
  },
  {
   "cell_type": "code",
   "execution_count": 14,
   "id": "144105eb",
   "metadata": {},
   "outputs": [
    {
     "data": {
      "text/plain": [
       "{10, 20, 30, 40, 50, 60, 70, 80, 90, 100, 110, 120, 130, 140, 150, 160}"
      ]
     },
     "execution_count": 14,
     "metadata": {},
     "output_type": "execute_result"
    }
   ],
   "source": [
    "set1"
   ]
  },
  {
   "cell_type": "code",
   "execution_count": 15,
   "id": "c89f0fc9",
   "metadata": {},
   "outputs": [
    {
     "ename": "KeyError",
     "evalue": "200",
     "output_type": "error",
     "traceback": [
      "\u001b[1;31m---------------------------------------------------------------------------\u001b[0m",
      "\u001b[1;31mKeyError\u001b[0m                                  Traceback (most recent call last)",
      "\u001b[1;32m<ipython-input-15-c6f86fac7023>\u001b[0m in \u001b[0;36m<module>\u001b[1;34m\u001b[0m\n\u001b[1;32m----> 1\u001b[1;33m \u001b[0mset1\u001b[0m\u001b[1;33m.\u001b[0m\u001b[0mremove\u001b[0m\u001b[1;33m(\u001b[0m\u001b[1;36m200\u001b[0m\u001b[1;33m)\u001b[0m\u001b[1;33m\u001b[0m\u001b[1;33m\u001b[0m\u001b[0m\n\u001b[0m",
      "\u001b[1;31mKeyError\u001b[0m: 200"
     ]
    }
   ],
   "source": [
    "set1.remove(200)# if you try to remove a value which is not there it throws an error"
   ]
  },
  {
   "cell_type": "code",
   "execution_count": 16,
   "id": "927c6ac1",
   "metadata": {},
   "outputs": [],
   "source": [
    "set1.discard(160) #removes 160"
   ]
  },
  {
   "cell_type": "code",
   "execution_count": 17,
   "id": "8ea3d17c",
   "metadata": {},
   "outputs": [
    {
     "data": {
      "text/plain": [
       "{10, 20, 30, 40, 50, 60, 70, 80, 90, 100, 110, 120, 130, 140, 150}"
      ]
     },
     "execution_count": 17,
     "metadata": {},
     "output_type": "execute_result"
    }
   ],
   "source": [
    "set1"
   ]
  },
  {
   "cell_type": "code",
   "execution_count": 18,
   "id": "e83cb761",
   "metadata": {},
   "outputs": [],
   "source": [
    "set1.discard(200)#discard doesnt throw an error even if the value to be discarded is not there"
   ]
  },
  {
   "cell_type": "code",
   "execution_count": 19,
   "id": "a6216dc1",
   "metadata": {},
   "outputs": [
    {
     "data": {
      "text/plain": [
       "{10, 20, 30, 40, 50, 60, 70, 80, 90, 100, 110, 120, 130, 140, 150}"
      ]
     },
     "execution_count": 19,
     "metadata": {},
     "output_type": "execute_result"
    }
   ],
   "source": [
    "set1"
   ]
  },
  {
   "cell_type": "code",
   "execution_count": 20,
   "id": "d385bb74",
   "metadata": {},
   "outputs": [
    {
     "data": {
      "text/plain": [
       "130"
      ]
     },
     "execution_count": 20,
     "metadata": {},
     "output_type": "execute_result"
    }
   ],
   "source": [
    "set1.pop()#removes any random element from the set"
   ]
  },
  {
   "cell_type": "code",
   "execution_count": 21,
   "id": "d2f1981d",
   "metadata": {},
   "outputs": [],
   "source": [
    "set2 = {\"hottensia\", \"weds\", \"joseph\"}"
   ]
  },
  {
   "cell_type": "code",
   "execution_count": 22,
   "id": "ec84b167",
   "metadata": {},
   "outputs": [
    {
     "data": {
      "text/plain": [
       "{'hottensia', 'joseph', 'weds'}"
      ]
     },
     "execution_count": 22,
     "metadata": {},
     "output_type": "execute_result"
    }
   ],
   "source": [
    "set2"
   ]
  },
  {
   "cell_type": "code",
   "execution_count": 23,
   "id": "7dceaa8e",
   "metadata": {},
   "outputs": [],
   "source": [
    "set2.clear()#clears everything"
   ]
  },
  {
   "cell_type": "code",
   "execution_count": 24,
   "id": "caa040e2",
   "metadata": {},
   "outputs": [
    {
     "data": {
      "text/plain": [
       "set()"
      ]
     },
     "execution_count": 24,
     "metadata": {},
     "output_type": "execute_result"
    }
   ],
   "source": [
    "set2"
   ]
  },
  {
   "cell_type": "code",
   "execution_count": 25,
   "id": "a47b65d2",
   "metadata": {},
   "outputs": [
    {
     "data": {
      "text/plain": [
       "{1, 2, 3}"
      ]
     },
     "execution_count": 25,
     "metadata": {},
     "output_type": "execute_result"
    }
   ],
   "source": [
    "set3 = {1,2,3}\n",
    "set3"
   ]
  },
  {
   "cell_type": "code",
   "execution_count": 26,
   "id": "42cba33c",
   "metadata": {},
   "outputs": [],
   "source": [
    "del set3 #deletes the set"
   ]
  },
  {
   "cell_type": "code",
   "execution_count": 27,
   "id": "c40043c3",
   "metadata": {},
   "outputs": [
    {
     "ename": "NameError",
     "evalue": "name 'set3' is not defined",
     "output_type": "error",
     "traceback": [
      "\u001b[1;31m---------------------------------------------------------------------------\u001b[0m",
      "\u001b[1;31mNameError\u001b[0m                                 Traceback (most recent call last)",
      "\u001b[1;32m<ipython-input-27-131c8e4e3e6d>\u001b[0m in \u001b[0;36m<module>\u001b[1;34m\u001b[0m\n\u001b[1;32m----> 1\u001b[1;33m \u001b[0mset3\u001b[0m\u001b[1;33m\u001b[0m\u001b[1;33m\u001b[0m\u001b[0m\n\u001b[0m",
      "\u001b[1;31mNameError\u001b[0m: name 'set3' is not defined"
     ]
    }
   ],
   "source": [
    "set3"
   ]
  },
  {
   "cell_type": "code",
   "execution_count": 28,
   "id": "875aa899",
   "metadata": {},
   "outputs": [],
   "source": [
    "#create a set using a set constructor"
   ]
  },
  {
   "cell_type": "code",
   "execution_count": 29,
   "id": "a8800121",
   "metadata": {},
   "outputs": [],
   "source": [
    "set4 = set((\"i\", \"love\", \"programming\"))"
   ]
  },
  {
   "cell_type": "code",
   "execution_count": 30,
   "id": "6e84e513",
   "metadata": {},
   "outputs": [
    {
     "data": {
      "text/plain": [
       "{'i', 'love', 'programming'}"
      ]
     },
     "execution_count": 30,
     "metadata": {},
     "output_type": "execute_result"
    }
   ],
   "source": [
    "set4"
   ]
  },
  {
   "cell_type": "code",
   "execution_count": 31,
   "id": "05534590",
   "metadata": {},
   "outputs": [],
   "source": [
    "#you can also convert a list to set"
   ]
  },
  {
   "cell_type": "code",
   "execution_count": 32,
   "id": "cf752680",
   "metadata": {},
   "outputs": [],
   "source": [
    "set5 = set([10,20,30,40,50,60,70]) #[] is used in creating a list"
   ]
  },
  {
   "cell_type": "code",
   "execution_count": 33,
   "id": "620036f5",
   "metadata": {},
   "outputs": [
    {
     "data": {
      "text/plain": [
       "{10, 20, 30, 40, 50, 60, 70}"
      ]
     },
     "execution_count": 33,
     "metadata": {},
     "output_type": "execute_result"
    }
   ],
   "source": [
    "set5"
   ]
  },
  {
   "cell_type": "code",
   "execution_count": 34,
   "id": "ee1b69a4",
   "metadata": {},
   "outputs": [],
   "source": [
    "set6 = {11,12,13,14,15,16}"
   ]
  },
  {
   "cell_type": "code",
   "execution_count": 35,
   "id": "b6dc7902",
   "metadata": {},
   "outputs": [],
   "source": [
    "set7 = set([14,15,16,17,18,19])"
   ]
  },
  {
   "cell_type": "code",
   "execution_count": null,
   "id": "534f4cf5",
   "metadata": {},
   "outputs": [],
   "source": [
    "#union"
   ]
  },
  {
   "cell_type": "code",
   "execution_count": 36,
   "id": "e8fb1193",
   "metadata": {},
   "outputs": [
    {
     "data": {
      "text/plain": [
       "{11, 12, 13, 14, 15, 16, 17, 18, 19}"
      ]
     },
     "execution_count": 36,
     "metadata": {},
     "output_type": "execute_result"
    }
   ],
   "source": [
    "set6 | set7   # | is the union symbol, union is all elements in the 2 sets"
   ]
  },
  {
   "cell_type": "code",
   "execution_count": 37,
   "id": "c4c9d19b",
   "metadata": {},
   "outputs": [
    {
     "data": {
      "text/plain": [
       "{11, 12, 13, 14, 15, 16, 17, 18, 19}"
      ]
     },
     "execution_count": 37,
     "metadata": {},
     "output_type": "execute_result"
    }
   ],
   "source": [
    "set6.union(set7) # als can use union function"
   ]
  },
  {
   "cell_type": "code",
   "execution_count": 38,
   "id": "ac231b7a",
   "metadata": {},
   "outputs": [],
   "source": [
    "# intersection -> displays elements in both the sets"
   ]
  },
  {
   "cell_type": "code",
   "execution_count": 39,
   "id": "30702b34",
   "metadata": {},
   "outputs": [
    {
     "data": {
      "text/plain": [
       "{14, 15, 16}"
      ]
     },
     "execution_count": 39,
     "metadata": {},
     "output_type": "execute_result"
    }
   ],
   "source": [
    "set6 & set7 # & is the intersection sign"
   ]
  },
  {
   "cell_type": "code",
   "execution_count": 40,
   "id": "1cd91cac",
   "metadata": {},
   "outputs": [
    {
     "data": {
      "text/plain": [
       "{14, 15, 16}"
      ]
     },
     "execution_count": 40,
     "metadata": {},
     "output_type": "execute_result"
    }
   ],
   "source": [
    "set6.intersection(set7) #intersection function"
   ]
  },
  {
   "cell_type": "code",
   "execution_count": 41,
   "id": "2143b964",
   "metadata": {},
   "outputs": [],
   "source": [
    "#Difference displa elements in one set but not in the other"
   ]
  },
  {
   "cell_type": "code",
   "execution_count": 42,
   "id": "62644145",
   "metadata": {},
   "outputs": [
    {
     "data": {
      "text/plain": [
       "{11, 12, 13}"
      ]
     },
     "execution_count": 42,
     "metadata": {},
     "output_type": "execute_result"
    }
   ],
   "source": [
    "set6 - set7 #elements in set6 and not in set 7"
   ]
  },
  {
   "cell_type": "code",
   "execution_count": 43,
   "id": "ec604a28",
   "metadata": {},
   "outputs": [
    {
     "data": {
      "text/plain": [
       "{17, 18, 19}"
      ]
     },
     "execution_count": 43,
     "metadata": {},
     "output_type": "execute_result"
    }
   ],
   "source": [
    "set7 - set6 #elements in set7 and not in set6"
   ]
  },
  {
   "cell_type": "code",
   "execution_count": 44,
   "id": "06057ae7",
   "metadata": {},
   "outputs": [
    {
     "data": {
      "text/plain": [
       "{11, 12, 13}"
      ]
     },
     "execution_count": 44,
     "metadata": {},
     "output_type": "execute_result"
    }
   ],
   "source": [
    "set6.difference(set7) #difference function"
   ]
  },
  {
   "cell_type": "code",
   "execution_count": 45,
   "id": "32327b40",
   "metadata": {},
   "outputs": [
    {
     "data": {
      "text/plain": [
       "{17, 18, 19}"
      ]
     },
     "execution_count": 45,
     "metadata": {},
     "output_type": "execute_result"
    }
   ],
   "source": [
    "set7.difference(set6)"
   ]
  },
  {
   "cell_type": "code",
   "execution_count": 46,
   "id": "b9eedbd7",
   "metadata": {},
   "outputs": [],
   "source": [
    "#Symmetric difference elements unique in both sets"
   ]
  },
  {
   "cell_type": "code",
   "execution_count": 47,
   "id": "f1d5bf47",
   "metadata": {},
   "outputs": [
    {
     "data": {
      "text/plain": [
       "{11, 12, 13, 17, 18, 19}"
      ]
     },
     "execution_count": 47,
     "metadata": {},
     "output_type": "execute_result"
    }
   ],
   "source": [
    "set6 ^ set7"
   ]
  },
  {
   "cell_type": "code",
   "execution_count": 48,
   "id": "2d832d2e",
   "metadata": {},
   "outputs": [
    {
     "data": {
      "text/plain": [
       "{11, 12, 13, 17, 18, 19}"
      ]
     },
     "execution_count": 48,
     "metadata": {},
     "output_type": "execute_result"
    }
   ],
   "source": [
    "set7 ^ set6 #both of them shows elements unique to both the sets"
   ]
  },
  {
   "cell_type": "code",
   "execution_count": 49,
   "id": "c368f15c",
   "metadata": {},
   "outputs": [
    {
     "data": {
      "text/plain": [
       "{11, 12, 13, 17, 18, 19}"
      ]
     },
     "execution_count": 49,
     "metadata": {},
     "output_type": "execute_result"
    }
   ],
   "source": [
    "set6.symmetric_difference(set7) #symmetric_difference function"
   ]
  },
  {
   "cell_type": "code",
   "execution_count": 50,
   "id": "f23f5077",
   "metadata": {},
   "outputs": [
    {
     "data": {
      "text/plain": [
       "{11, 12, 13, 17, 18, 19}"
      ]
     },
     "execution_count": 50,
     "metadata": {},
     "output_type": "execute_result"
    }
   ],
   "source": [
    "set7.symmetric_difference(set6)"
   ]
  },
  {
   "cell_type": "code",
   "execution_count": 52,
   "id": "64d8c5cf",
   "metadata": {},
   "outputs": [
    {
     "ename": "TypeError",
     "evalue": "'set' object is not subscriptable",
     "output_type": "error",
     "traceback": [
      "\u001b[1;31m---------------------------------------------------------------------------\u001b[0m",
      "\u001b[1;31mTypeError\u001b[0m                                 Traceback (most recent call last)",
      "\u001b[1;32m<ipython-input-52-afd6242b4925>\u001b[0m in \u001b[0;36m<module>\u001b[1;34m\u001b[0m\n\u001b[1;32m----> 1\u001b[1;33m \u001b[0mset6\u001b[0m\u001b[1;33m[\u001b[0m\u001b[1;36m1\u001b[0m\u001b[1;33m]\u001b[0m \u001b[1;31m#trying to access element in index 1 but whoops sets dont support indexing\u001b[0m\u001b[1;33m\u001b[0m\u001b[1;33m\u001b[0m\u001b[0m\n\u001b[0m",
      "\u001b[1;31mTypeError\u001b[0m: 'set' object is not subscriptable"
     ]
    }
   ],
   "source": [
    "set6[1] #trying to access element in index 1 but whoops sets dont support indexing"
   ]
  },
  {
   "cell_type": "code",
   "execution_count": null,
   "id": "882b9cb6",
   "metadata": {},
   "outputs": [],
   "source": [
    "#Python dictionaries"
   ]
  }
 ],
 "metadata": {
  "kernelspec": {
   "display_name": "Python 3",
   "language": "python",
   "name": "python3"
  },
  "language_info": {
   "codemirror_mode": {
    "name": "ipython",
    "version": 3
   },
   "file_extension": ".py",
   "mimetype": "text/x-python",
   "name": "python",
   "nbconvert_exporter": "python",
   "pygments_lexer": "ipython3",
   "version": "3.8.5"
  }
 },
 "nbformat": 4,
 "nbformat_minor": 5
}
