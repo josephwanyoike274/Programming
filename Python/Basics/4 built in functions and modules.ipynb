{
 "cells": [
  {
   "cell_type": "code",
   "execution_count": 2,
   "id": "a229de3c-05e6-4ca0-b7e5-5f8324b5f6cc",
   "metadata": {},
   "outputs": [
    {
     "ename": "NameError",
     "evalue": "name '__builtins___' is not defined",
     "output_type": "error",
     "traceback": [
      "\u001b[1;31m---------------------------------------------------------------------------\u001b[0m",
      "\u001b[1;31mNameError\u001b[0m                                 Traceback (most recent call last)",
      "\u001b[1;32m~\\AppData\\Local\\Temp/ipykernel_2428/859077379.py\u001b[0m in \u001b[0;36m<module>\u001b[1;34m\u001b[0m\n\u001b[1;32m----> 1\u001b[1;33m \u001b[0mdir\u001b[0m\u001b[1;33m(\u001b[0m\u001b[0m__builtins___\u001b[0m\u001b[1;33m)\u001b[0m\u001b[1;33m\u001b[0m\u001b[1;33m\u001b[0m\u001b[0m\n\u001b[0m",
      "\u001b[1;31mNameError\u001b[0m: name '__builtins___' is not defined"
     ]
    }
   ],
   "source": [
    "dir  (__builtins___)#displays all builtin functions in python"
   ]
  },
  {
   "cell_type": "code",
   "execution_count": 3,
   "id": "33944e39-cd2d-4bee-b53f-eb24af73922e",
   "metadata": {},
   "outputs": [
    {
     "data": {
      "text/plain": [
       "1024"
      ]
     },
     "execution_count": 3,
     "metadata": {},
     "output_type": "execute_result"
    }
   ],
   "source": [
    "pow (2, 10)#pow means power-----so its 2 power 5"
   ]
  },
  {
   "cell_type": "code",
   "execution_count": 5,
   "id": "340d2fa7-d490-49a0-b593-6865efd0d418",
   "metadata": {},
   "outputs": [
    {
     "data": {
      "text/plain": [
       "15"
      ]
     },
     "execution_count": 5,
     "metadata": {},
     "output_type": "execute_result"
    }
   ],
   "source": [
    "len (\"Joseph Wanyoike\")#displays the length of the string"
   ]
  },
  {
   "cell_type": "code",
   "execution_count": 6,
   "id": "3bcf6af8-6d8e-43ca-bfb7-b4eb7d88391f",
   "metadata": {},
   "outputs": [
    {
     "name": "stdout",
     "output_type": "stream",
     "text": [
      "Help on built-in function max in module builtins:\n",
      "\n",
      "max(...)\n",
      "    max(iterable, *[, default=obj, key=func]) -> value\n",
      "    max(arg1, arg2, *args, *[, key=func]) -> value\n",
      "    \n",
      "    With a single iterable argument, return its biggest item. The\n",
      "    default keyword-only argument specifies an object to return if\n",
      "    the provided iterable is empty.\n",
      "    With two or more arguments, return the largest argument.\n",
      "\n"
     ]
    }
   ],
   "source": [
    "help (max)#help displays the documentation of any function"
   ]
  },
  {
   "cell_type": "code",
   "execution_count": 7,
   "id": "95d79006-0453-4b7d-9b19-8a9ed9de53a5",
   "metadata": {},
   "outputs": [
    {
     "data": {
      "text/plain": [
       "10.0"
      ]
     },
     "execution_count": 7,
     "metadata": {},
     "output_type": "execute_result"
    }
   ],
   "source": [
    "import math\n",
    "math.sqrt(100)#finds the square root"
   ]
  },
  {
   "cell_type": "code",
   "execution_count": 9,
   "id": "d32e0c95-1cbc-4235-89e6-5a00489156d8",
   "metadata": {},
   "outputs": [
    {
     "name": "stdout",
     "output_type": "stream",
     "text": [
      "Help on built-in function sqrt in module math:\n",
      "\n",
      "sqrt(x, /)\n",
      "    Return the square root of x.\n",
      "\n"
     ]
    }
   ],
   "source": [
    "help(math.sqrt)"
   ]
  },
  {
   "cell_type": "code",
   "execution_count": 10,
   "id": "386020bd-6165-4b9c-b8e8-eda35b65354f",
   "metadata": {},
   "outputs": [
    {
     "data": {
      "text/plain": [
       "['__doc__',\n",
       " '__loader__',\n",
       " '__name__',\n",
       " '__package__',\n",
       " '__spec__',\n",
       " 'acos',\n",
       " 'acosh',\n",
       " 'asin',\n",
       " 'asinh',\n",
       " 'atan',\n",
       " 'atan2',\n",
       " 'atanh',\n",
       " 'ceil',\n",
       " 'comb',\n",
       " 'copysign',\n",
       " 'cos',\n",
       " 'cosh',\n",
       " 'degrees',\n",
       " 'dist',\n",
       " 'e',\n",
       " 'erf',\n",
       " 'erfc',\n",
       " 'exp',\n",
       " 'expm1',\n",
       " 'fabs',\n",
       " 'factorial',\n",
       " 'floor',\n",
       " 'fmod',\n",
       " 'frexp',\n",
       " 'fsum',\n",
       " 'gamma',\n",
       " 'gcd',\n",
       " 'hypot',\n",
       " 'inf',\n",
       " 'isclose',\n",
       " 'isfinite',\n",
       " 'isinf',\n",
       " 'isnan',\n",
       " 'isqrt',\n",
       " 'ldexp',\n",
       " 'lgamma',\n",
       " 'log',\n",
       " 'log10',\n",
       " 'log1p',\n",
       " 'log2',\n",
       " 'modf',\n",
       " 'nan',\n",
       " 'perm',\n",
       " 'pi',\n",
       " 'pow',\n",
       " 'prod',\n",
       " 'radians',\n",
       " 'remainder',\n",
       " 'sin',\n",
       " 'sinh',\n",
       " 'sqrt',\n",
       " 'tan',\n",
       " 'tanh',\n",
       " 'tau',\n",
       " 'trunc']"
      ]
     },
     "execution_count": 10,
     "metadata": {},
     "output_type": "execute_result"
    }
   ],
   "source": [
    "dir (math)#lists all available functions in that module"
   ]
  },
  {
   "cell_type": "code",
   "execution_count": 20,
   "id": "ac1f87e5-36fc-428f-8ee5-3b4ab24df380",
   "metadata": {},
   "outputs": [
    {
     "name": "stdin",
     "output_type": "stream",
     "text": [
      "input date born 4\n",
      "input month born 2\n",
      "input year born 2000\n"
     ]
    },
    {
     "name": "stdout",
     "output_type": "stream",
     "text": [
      "its not my birthday\n"
     ]
    }
   ],
   "source": [
    "day = int (input (\"input date born\"))\n",
    "month = int(input(\"input month born\"))\n",
    "year = int (input (\"input year born\"))\n",
    "\n",
    "if day == 27 and month == 4 and year == 1994:\n",
    "            print (\"KUDOS , ITS MY BIRTHDAY\")\n",
    "else:\n",
    "            print(\"its not my birthday\")"
   ]
  },
  {
   "cell_type": "code",
   "execution_count": 21,
   "id": "242e6e60-36c4-4588-920c-b8e09c3e072c",
   "metadata": {},
   "outputs": [],
   "source": [
    "#timestamp = 1:08:47"
   ]
  },
  {
   "cell_type": "code",
   "execution_count": null,
   "id": "767d9160-7cbc-47f0-a8f0-bfe396990681",
   "metadata": {},
   "outputs": [],
   "source": []
  }
 ],
 "metadata": {
  "kernelspec": {
   "display_name": "Python 3 (ipykernel)",
   "language": "python",
   "name": "python3"
  },
  "language_info": {
   "codemirror_mode": {
    "name": "ipython",
    "version": 3
   },
   "file_extension": ".py",
   "mimetype": "text/x-python",
   "name": "python",
   "nbconvert_exporter": "python",
   "pygments_lexer": "ipython3",
   "version": "3.8.5"
  }
 },
 "nbformat": 4,
 "nbformat_minor": 5
}
