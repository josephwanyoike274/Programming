{
 "cells": [
  {
   "cell_type": "code",
   "execution_count": 2,
   "id": "f2200e92-9149-4931-9810-570127b75d02",
   "metadata": {},
   "outputs": [
    {
     "name": "stdout",
     "output_type": "stream",
     "text": [
      "Hello world\n"
     ]
    }
   ],
   "source": [
    "print (\"Hello world\")"
   ]
  },
  {
   "cell_type": "code",
   "execution_count": 5,
   "id": "35a94f9e-983a-4253-a177-38c880e49271",
   "metadata": {},
   "outputs": [
    {
     "name": "stdout",
     "output_type": "stream",
     "text": [
      "50 * 60 is  3000\n"
     ]
    }
   ],
   "source": [
    "print (\"50 * 60 is\", 50*60)"
   ]
  },
  {
   "cell_type": "code",
   "execution_count": 6,
   "id": "938c8415-5ed7-4083-9f5f-f34d913b7a6f",
   "metadata": {},
   "outputs": [
    {
     "name": "stdout",
     "output_type": "stream",
     "text": [
      "joseph   Wanyoike\n"
     ]
    }
   ],
   "source": [
    "print (\"joseph\", \" \", \"Wanyoike\")"
   ]
  },
  {
   "cell_type": "code",
   "execution_count": 10,
   "id": "816901d4-800f-4cbc-bd61-61066f852c72",
   "metadata": {},
   "outputs": [],
   "source": [
    "x = 50\n",
    "y = 60"
   ]
  },
  {
   "cell_type": "code",
   "execution_count": 13,
   "id": "9870c4cb-4b68-4627-9800-230231044325",
   "metadata": {},
   "outputs": [
    {
     "name": "stdout",
     "output_type": "stream",
     "text": [
      "50 * 60 = 3000\n"
     ]
    }
   ],
   "source": [
    "print (\"{0} * {1} = {2}\".format(x,y,  x*y))"
   ]
  },
  {
   "cell_type": "code",
   "execution_count": 15,
   "id": "6263e644-5e07-40c7-9f20-ddf3dcfc5d29",
   "metadata": {},
   "outputs": [
    {
     "name": "stdout",
     "output_type": "stream",
     "text": [
      "hello-------World\n"
     ]
    }
   ],
   "source": [
    "print (\"hello\", \"World\", sep=\"-------\")"
   ]
  },
  {
   "cell_type": "code",
   "execution_count": 16,
   "id": "3f196c71-6239-44bc-820e-40f293d82d17",
   "metadata": {},
   "outputs": [
    {
     "name": "stdout",
     "output_type": "stream",
     "text": [
      "Hello Joseph\n"
     ]
    }
   ],
   "source": [
    "name = \"Joseph\"\n",
    "print (\"Hello %s\" % name)"
   ]
  },
  {
   "cell_type": "code",
   "execution_count": 17,
   "id": "453ebf1e-c186-4741-93b6-e7900b4d0a63",
   "metadata": {},
   "outputs": [
    {
     "name": "stdout",
     "output_type": "stream",
     "text": [
      "hello Joseph ! are you 27 years old\n"
     ]
    }
   ],
   "source": [
    "age = 27\n",
    "print (\"hello %s ! are you %d years old\" % (name, age))"
   ]
  },
  {
   "cell_type": "code",
   "execution_count": 18,
   "id": "18bdbd0c-8fc5-4a96-93ff-6575bd851f0c",
   "metadata": {},
   "outputs": [
    {
     "name": "stdout",
     "output_type": "stream",
     "text": [
      "GMAT = 790.000000\n"
     ]
    }
   ],
   "source": [
    "print (\"GMAT = %f\" % 790)"
   ]
  },
  {
   "cell_type": "code",
   "execution_count": 19,
   "id": "c14a2919-a31f-4c18-93d1-ba99edb0f8f5",
   "metadata": {},
   "outputs": [
    {
     "name": "stdout",
     "output_type": "stream",
     "text": [
      "GMAT = 790.00\n"
     ]
    }
   ],
   "source": [
    "print (\"GMAT = %.2f\" % 790)#limits to 2 decimal places"
   ]
  },
  {
   "cell_type": "code",
   "execution_count": 20,
   "id": "7885c394-e271-4126-87a5-2584f92c172e",
   "metadata": {},
   "outputs": [],
   "source": [
    "#input"
   ]
  },
  {
   "cell_type": "code",
   "execution_count": 21,
   "id": "532506d1-9f64-433d-a087-f9f9e2d73df6",
   "metadata": {},
   "outputs": [
    {
     "name": "stdin",
     "output_type": "stream",
     "text": [
      "Enter some Value 790\n"
     ]
    }
   ],
   "source": [
    "value = input(\"Enter some Value\")"
   ]
  },
  {
   "cell_type": "code",
   "execution_count": 23,
   "id": "a2fdd3ea-b0ad-4927-af6e-c2b59dd6da47",
   "metadata": {},
   "outputs": [
    {
     "name": "stdin",
     "output_type": "stream",
     "text": [
      "input yours GMAT Markrs 790\n"
     ]
    }
   ],
   "source": [
    "marks = int(input(\"input yours GMAT Markrs\"))"
   ]
  },
  {
   "cell_type": "code",
   "execution_count": null,
   "id": "71cdcbfd-75e4-48bf-87c1-4274ee10a8c4",
   "metadata": {},
   "outputs": [],
   "source": []
  }
 ],
 "metadata": {
  "kernelspec": {
   "display_name": "Python 3 (ipykernel)",
   "language": "python",
   "name": "python3"
  },
  "language_info": {
   "codemirror_mode": {
    "name": "ipython",
    "version": 3
   },
   "file_extension": ".py",
   "mimetype": "text/x-python",
   "name": "python",
   "nbconvert_exporter": "python",
   "pygments_lexer": "ipython3",
   "version": "3.8.5"
  }
 },
 "nbformat": 4,
 "nbformat_minor": 5
}
