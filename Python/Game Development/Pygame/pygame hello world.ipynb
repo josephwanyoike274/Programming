{
 "cells": [
  {
   "cell_type": "code",
   "execution_count": 3,
   "id": "ea0889e0-cc70-4156-87eb-3d80d58b0392",
   "metadata": {},
   "outputs": [],
   "source": [
    "import pygame\n",
    "from pygame.locals import *\n",
    "from sys import exit"
   ]
  },
  {
   "cell_type": "code",
   "execution_count": 2,
   "id": "0bddca4f-ced3-4fa5-b27f-a19273e68965",
   "metadata": {},
   "outputs": [],
   "source": [
    "if pygame.font is None:\n",
    "    print (\"The font module is not available\")\n",
    "    exit()"
   ]
  },
  {
   "cell_type": "code",
   "execution_count": 7,
   "id": "91cdb803-ce4a-43d4-a89c-efd530e2be6b",
   "metadata": {},
   "outputs": [
    {
     "ename": "SystemExit",
     "evalue": "",
     "output_type": "error",
     "traceback": [
      "An exception has occurred, use %tb to see the full traceback.\n",
      "\u001b[1;31mSystemExit\u001b[0m\n"
     ]
    },
    {
     "name": "stderr",
     "output_type": "stream",
     "text": [
      "c:\\users\\joseph\\appdata\\local\\programs\\python\\python38\\lib\\site-packages\\IPython\\core\\interactiveshell.py:3465: UserWarning: To exit: use 'exit', 'quit', or Ctrl-D.\n",
      "  warn(\"To exit: use 'exit', 'quit', or Ctrl-D.\", stacklevel=1)\n"
     ]
    }
   ],
   "source": [
    "background_image = \"wanyoike274.jpg\"\n",
    "mouse_image = \"pp.jpeg\" \n",
    "pygame.init()\n",
    "\n",
    "screen = pygame.display.set_mode((640, 480), 0, 32)\n",
    "pygame.display.set_caption(\"Joseph Wanyoike\")\n",
    "\n",
    "background = pygame.image.load(background_image).convert()\n",
    "mouse_cursor = pygame.image.load(mouse_image).convert()\n",
    "\n",
    "while True:\n",
    "     for event in pygame.event.get():\n",
    "            \n",
    "        if event.type == QUIT:\n",
    "            exit()\n",
    "screen.blit(background, (0, 0))\n",
    "\n",
    "x,y = pygame.mouse.get_pos()\n",
    "x-= mouse_cursor.get_width() / 2\n",
    "y-= mouse_cursor.get_height() / 2\n",
    "screen.blit(mouse_cursor, (x, y))\n",
    "\n",
    "pygame.display.update()"
   ]
  },
  {
   "cell_type": "code",
   "execution_count": null,
   "id": "312bc498-1feb-4601-af60-585195af339f",
   "metadata": {},
   "outputs": [],
   "source": []
  }
 ],
 "metadata": {
  "kernelspec": {
   "display_name": "Python 3 (ipykernel)",
   "language": "python",
   "name": "python3"
  },
  "language_info": {
   "codemirror_mode": {
    "name": "ipython",
    "version": 3
   },
   "file_extension": ".py",
   "mimetype": "text/x-python",
   "name": "python",
   "nbconvert_exporter": "python",
   "pygments_lexer": "ipython3",
   "version": "3.8.5"
  }
 },
 "nbformat": 4,
 "nbformat_minor": 5
}
